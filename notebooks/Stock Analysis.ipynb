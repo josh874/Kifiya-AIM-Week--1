{
 "cells": [
  {
   "cell_type": "code",
   "execution_count": 1,
   "metadata": {},
   "outputs": [],
   "source": [
    "import pandas as pd\n",
    "import numpy as np"
   ]
  },
  {
   "cell_type": "code",
   "execution_count": 2,
   "metadata": {},
   "outputs": [],
   "source": [
    "columns_to_load = ['stock', 'date']\n",
    "df = pd.read_csv('C:/Users/eyasu/Desktop/Kifiya/Week-1/raw_analyst_ratings.csv/raw_analyst_ratings.csv', usecols=columns_to_load)"
   ]
  },
  {
   "cell_type": "code",
   "execution_count": 3,
   "metadata": {},
   "outputs": [
    {
     "name": "stdout",
     "output_type": "stream",
     "text": [
      "                        date stock\n",
      "0  2020-06-05 10:30:54-04:00     A\n",
      "1  2020-06-03 10:45:20-04:00     A\n",
      "2  2020-05-26 04:30:07-04:00     A\n",
      "3  2020-05-22 12:45:06-04:00     A\n",
      "4  2020-05-22 11:38:59-04:00     A\n"
     ]
    }
   ],
   "source": [
    "print(df.head())"
   ]
  },
  {
   "cell_type": "code",
   "execution_count": 4,
   "metadata": {},
   "outputs": [],
   "source": [
    "from datetime import datetime\n",
    "from dateutil import parser\n",
    "\n",
    "def parse_date_with_default(date_string):\n",
    "    if isinstance(date_string, datetime):\n",
    "        date_string = date_string.strftime('%Y-%m-%d %H:%M:%S')\n",
    "    try:\n",
    "        parsed_date = parser.parse(date_string)\n",
    "        return parsed_date.date()\n",
    "    except ValueError:\n",
    "        raise ValueError(\"Invalid date format: \" + date_string)\n",
    "\n",
    "df['date'] = df['date'].apply(parse_date_with_default)"
   ]
  },
  {
   "cell_type": "code",
   "execution_count": 6,
   "metadata": {},
   "outputs": [
    {
     "name": "stdout",
     "output_type": "stream",
     "text": [
      "   stock  start_date    end_date\n",
      "0      A  2009-04-29  2020-06-05\n",
      "1     AA  2009-08-10  2020-06-09\n",
      "2    AAC  2010-03-25  2019-10-25\n",
      "3   AADR  2013-03-05  2013-09-06\n",
      "4    AAL  2011-05-16  2020-06-10\n",
      "5   AAMC  2014-02-26  2020-05-11\n",
      "6   AAME  2010-04-28  2020-05-11\n",
      "7    AAN  2009-08-10  2020-06-10\n",
      "8   AAOI  2013-09-26  2020-05-11\n",
      "9   AAON  2009-08-10  2020-05-15\n",
      "10   AAP  2009-08-13  2020-06-10\n",
      "11  AAPL  2020-03-09  2020-06-10\n",
      "12   AAU  2009-12-04  2018-10-11\n",
      "13   AAV  2009-08-12  2019-08-02\n",
      "14  AAVL  2014-07-21  2016-05-06\n",
      "15  AAWW  2009-12-12  2020-06-08\n",
      "16  AAXJ  2011-09-14  2017-08-14\n",
      "17    AB  2009-08-07  2020-05-12\n",
      "18  ABAC  2014-08-21  2019-01-15\n",
      "19  ABAX  2014-02-28  2018-08-01\n",
      "20   ABB  2009-11-27  2020-06-03\n",
      "21  ABBV  2013-01-02  2020-06-10\n",
      "22   ABC  2009-08-10  2020-06-05\n",
      "23  ABCB  2020-03-12  2020-05-22\n",
      "24  ABCD  2011-05-24  2018-11-01\n",
      "25  ABCO  2009-11-25  2017-11-15\n",
      "26  ABCW  2009-12-02  2016-01-29\n",
      "27  ABDC  2014-05-08  2019-11-05\n",
      "28  ABEV  2014-01-07  2020-06-08\n",
      "29   ABG  2010-09-01  2020-05-18\n",
      "30  ABGB  2013-10-17  2016-04-06\n",
      "31  ABIO  2019-05-20  2020-06-10\n",
      "32   ABM  2017-09-07  2020-05-27\n",
      "33  ABMD  2019-10-02  2020-06-05\n",
      "34   ABR  2009-10-23  2020-06-08\n",
      "35  ABTL  2010-06-27  2017-10-09\n",
      "36   ABX  2009-09-02  2019-08-02\n",
      "37   ABY  2014-06-02  2017-11-13\n",
      "38  ACAD  2009-07-27  2020-05-28\n",
      "39  ACAS  2009-09-04  2016-12-15\n",
      "40  ACAT  2010-04-15  2017-04-10\n",
      "41   ACC  2009-08-07  2020-06-05\n",
      "42  ACCO  2012-04-13  2020-05-04\n",
      "43  ACCU  2013-09-03  2013-09-03\n",
      "44   ACE  2009-08-12  2016-02-16\n",
      "45  ACET  2010-08-04  2019-03-11\n",
      "46  ACFC  2010-04-06  2018-05-10\n",
      "47  ACFN  2009-11-09  2015-11-16\n",
      "48   ACG  2014-06-25  2015-08-28\n",
      "49  ACGL  2009-11-06  2020-06-10\n"
     ]
    }
   ],
   "source": [
    "start_end_dates = df.groupby('stock')['date'].agg(['min', 'max'])\n",
    "\n",
    "# Rename the columns\n",
    "start_end_dates = start_end_dates.rename(columns={'min': 'start_date', 'max': 'end_date'})\n",
    "\n",
    "# Reset the index to make \"stock\" a regular column\n",
    "start_end_dates = start_end_dates.reset_index()\n",
    "\n",
    "# Print the result\n",
    "print(start_end_dates.head(50))"
   ]
  },
  {
   "cell_type": "code",
   "execution_count": 11,
   "metadata": {},
   "outputs": [
    {
     "name": "stderr",
     "output_type": "stream",
     "text": [
      "[*********************100%%**********************]  1 of 1 completed\n",
      "[*********************100%%**********************]  1 of 1 completed\n",
      "[*********************100%%**********************]  1 of 1 completed\n",
      "\n",
      "1 Failed download:\n",
      "['AAC']: Exception('%ticker%: No timezone found, symbol may be delisted')\n",
      "[*********************100%%**********************]  1 of 1 completed\n",
      "[*********************100%%**********************]  1 of 1 completed\n",
      "[*********************100%%**********************]  1 of 1 completed\n",
      "\n",
      "1 Failed download:\n",
      "['AAMC']: Exception(\"%ticker%: Data doesn't exist for startDate = 1393390800, endDate = 1589169600\")\n",
      "[*********************100%%**********************]  1 of 1 completed\n",
      "[*********************100%%**********************]  1 of 1 completed\n",
      "\n",
      "1 Failed download:\n",
      "['AAN']: Exception(\"%ticker%: Data doesn't exist for startDate = 1249876800, endDate = 1591761600\")\n",
      "[*********************100%%**********************]  1 of 1 completed\n",
      "[*********************100%%**********************]  1 of 1 completed\n",
      "\n",
      "1 Failed download:\n",
      "['AAON']: ConnectionError(MaxRetryError('HTTPSConnectionPool(host=\\'query2.finance.yahoo.com\\', port=443): Max retries exceeded with url: /v8/finance/chart/%ticker%?period1=1249876800&period2=1589515200&interval=1d&includePrePost=False&events=div%2Csplits%2CcapitalGains&crumb=poomzx3cIjx (Caused by NameResolutionError(\"<urllib3.connection.HTTPSConnection object at 0x0000016A952998E0>: Failed to resolve \\'query2.finance.yahoo.com\\' ([Errno 11001] getaddrinfo failed)\"))'))\n",
      "Failed to get ticker 'AAP' reason: HTTPSConnectionPool(host='query2.finance.yahoo.com', port=443): Max retries exceeded with url: /v8/finance/chart/AAP?range=1d&interval=1d&crumb=poomzx3cIjx (Caused by NameResolutionError(\"<urllib3.connection.HTTPSConnection object at 0x0000016A953B9A90>: Failed to resolve 'query2.finance.yahoo.com' ([Errno 11001] getaddrinfo failed)\"))\n",
      "[*********************100%%**********************]  1 of 1 completed\n",
      "\n",
      "1 Failed download:\n",
      "['AAP']: Exception('%ticker%: No timezone found, symbol may be delisted')\n",
      "Failed to get ticker 'AAPL' reason: HTTPSConnectionPool(host='query2.finance.yahoo.com', port=443): Max retries exceeded with url: /v8/finance/chart/AAPL?range=1d&interval=1d&crumb=poomzx3cIjx (Caused by NameResolutionError(\"<urllib3.connection.HTTPSConnection object at 0x0000016A953ACDA0>: Failed to resolve 'query2.finance.yahoo.com' ([Errno 11001] getaddrinfo failed)\"))\n",
      "[*********************100%%**********************]  1 of 1 completed\n",
      "\n",
      "1 Failed download:\n",
      "['AAPL']: Exception('%ticker%: No timezone found, symbol may be delisted')\n",
      "Failed to get ticker 'AAU' reason: HTTPSConnectionPool(host='query2.finance.yahoo.com', port=443): Max retries exceeded with url: /v8/finance/chart/AAU?range=1d&interval=1d&crumb=poomzx3cIjx (Caused by NameResolutionError(\"<urllib3.connection.HTTPSConnection object at 0x0000016A953AD1C0>: Failed to resolve 'query2.finance.yahoo.com' ([Errno 11001] getaddrinfo failed)\"))\n",
      "[*********************100%%**********************]  1 of 1 completed\n",
      "\n",
      "1 Failed download:\n",
      "['AAU']: No timezone found, symbol may be delisted\n",
      "[*********************100%%**********************]  1 of 1 completed\n",
      "\n",
      "1 Failed download:\n",
      "['AAU']: Exception('%ticker%: No timezone found, symbol may be delisted')\n",
      "Failed to get ticker 'AAV' reason: HTTPSConnectionPool(host='query2.finance.yahoo.com', port=443): Max retries exceeded with url: /v8/finance/chart/AAV?range=1d&interval=1d&crumb=poomzx3cIjx (Caused by NameResolutionError(\"<urllib3.connection.HTTPSConnection object at 0x0000016A9551E570>: Failed to resolve 'query2.finance.yahoo.com' ([Errno 11001] getaddrinfo failed)\"))\n"
     ]
    },
    {
     "ename": "KeyError",
     "evalue": "'AAV'",
     "output_type": "error",
     "traceback": [
      "\u001b[1;31m---------------------------------------------------------------------------\u001b[0m",
      "\u001b[1;31mKeyError\u001b[0m                                  Traceback (most recent call last)",
      "Cell \u001b[1;32mIn[11], line 11\u001b[0m\n\u001b[0;32m      8\u001b[0m end_date \u001b[38;5;241m=\u001b[39m row[\u001b[38;5;124m'\u001b[39m\u001b[38;5;124mend_date\u001b[39m\u001b[38;5;124m'\u001b[39m]\n\u001b[0;32m     10\u001b[0m \u001b[38;5;66;03m# Download the stock data using yfinance\u001b[39;00m\n\u001b[1;32m---> 11\u001b[0m stock_data \u001b[38;5;241m=\u001b[39m \u001b[43myf\u001b[49m\u001b[38;5;241;43m.\u001b[39;49m\u001b[43mdownload\u001b[49m\u001b[43m(\u001b[49m\u001b[43mstock\u001b[49m\u001b[43m,\u001b[49m\u001b[43m \u001b[49m\u001b[43mstart\u001b[49m\u001b[38;5;241;43m=\u001b[39;49m\u001b[43mstart_date\u001b[49m\u001b[43m,\u001b[49m\u001b[43m \u001b[49m\u001b[43mend\u001b[49m\u001b[38;5;241;43m=\u001b[39;49m\u001b[43mend_date\u001b[49m\u001b[43m)\u001b[49m\n\u001b[0;32m     13\u001b[0m \u001b[38;5;66;03m# Append the stock data to the list\u001b[39;00m\n\u001b[0;32m     14\u001b[0m stock_data_list\u001b[38;5;241m.\u001b[39mappend(stock_data)\n",
      "File \u001b[1;32mc:\\Kifiya AIM Week -1\\myenv\\Lib\\site-packages\\yfinance\\utils.py:103\u001b[0m, in \u001b[0;36mlog_indent_decorator.<locals>.wrapper\u001b[1;34m(*args, **kwargs)\u001b[0m\n\u001b[0;32m    100\u001b[0m logger\u001b[38;5;241m.\u001b[39mdebug(\u001b[38;5;124mf\u001b[39m\u001b[38;5;124m'\u001b[39m\u001b[38;5;124mEntering \u001b[39m\u001b[38;5;132;01m{\u001b[39;00mfunc\u001b[38;5;241m.\u001b[39m\u001b[38;5;18m__name__\u001b[39m\u001b[38;5;132;01m}\u001b[39;00m\u001b[38;5;124m()\u001b[39m\u001b[38;5;124m'\u001b[39m)\n\u001b[0;32m    102\u001b[0m \u001b[38;5;28;01mwith\u001b[39;00m IndentationContext():\n\u001b[1;32m--> 103\u001b[0m     result \u001b[38;5;241m=\u001b[39m \u001b[43mfunc\u001b[49m\u001b[43m(\u001b[49m\u001b[38;5;241;43m*\u001b[39;49m\u001b[43margs\u001b[49m\u001b[43m,\u001b[49m\u001b[43m \u001b[49m\u001b[38;5;241;43m*\u001b[39;49m\u001b[38;5;241;43m*\u001b[39;49m\u001b[43mkwargs\u001b[49m\u001b[43m)\u001b[49m\n\u001b[0;32m    105\u001b[0m logger\u001b[38;5;241m.\u001b[39mdebug(\u001b[38;5;124mf\u001b[39m\u001b[38;5;124m'\u001b[39m\u001b[38;5;124mExiting \u001b[39m\u001b[38;5;132;01m{\u001b[39;00mfunc\u001b[38;5;241m.\u001b[39m\u001b[38;5;18m__name__\u001b[39m\u001b[38;5;132;01m}\u001b[39;00m\u001b[38;5;124m()\u001b[39m\u001b[38;5;124m'\u001b[39m)\n\u001b[0;32m    106\u001b[0m \u001b[38;5;28;01mreturn\u001b[39;00m result\n",
      "File \u001b[1;32mc:\\Kifiya AIM Week -1\\myenv\\Lib\\site-packages\\yfinance\\multi.py:216\u001b[0m, in \u001b[0;36mdownload\u001b[1;34m(tickers, start, end, actions, threads, ignore_tz, group_by, auto_adjust, back_adjust, repair, keepna, progress, period, show_errors, interval, prepost, proxy, rounding, timeout, session)\u001b[0m\n\u001b[0;32m    214\u001b[0m \u001b[38;5;28;01mif\u001b[39;00m \u001b[38;5;28mlen\u001b[39m(tickers) \u001b[38;5;241m==\u001b[39m \u001b[38;5;241m1\u001b[39m:\n\u001b[0;32m    215\u001b[0m     ticker \u001b[38;5;241m=\u001b[39m tickers[\u001b[38;5;241m0\u001b[39m]\n\u001b[1;32m--> 216\u001b[0m     \u001b[38;5;28;01mreturn\u001b[39;00m \u001b[43mshared\u001b[49m\u001b[38;5;241;43m.\u001b[39;49m\u001b[43m_DFS\u001b[49m\u001b[43m[\u001b[49m\u001b[43mticker\u001b[49m\u001b[43m]\u001b[49m\n\u001b[0;32m    218\u001b[0m \u001b[38;5;28;01mtry\u001b[39;00m:\n\u001b[0;32m    219\u001b[0m     data \u001b[38;5;241m=\u001b[39m _pd\u001b[38;5;241m.\u001b[39mconcat(shared\u001b[38;5;241m.\u001b[39m_DFS\u001b[38;5;241m.\u001b[39mvalues(), axis\u001b[38;5;241m=\u001b[39m\u001b[38;5;241m1\u001b[39m, sort\u001b[38;5;241m=\u001b[39m\u001b[38;5;28;01mTrue\u001b[39;00m,\n\u001b[0;32m    220\u001b[0m                       keys\u001b[38;5;241m=\u001b[39mshared\u001b[38;5;241m.\u001b[39m_DFS\u001b[38;5;241m.\u001b[39mkeys(), names\u001b[38;5;241m=\u001b[39m[\u001b[38;5;124m'\u001b[39m\u001b[38;5;124mTicker\u001b[39m\u001b[38;5;124m'\u001b[39m, \u001b[38;5;124m'\u001b[39m\u001b[38;5;124mPrice\u001b[39m\u001b[38;5;124m'\u001b[39m])\n",
      "\u001b[1;31mKeyError\u001b[0m: 'AAV'"
     ]
    }
   ],
   "source": [
    "import yfinance as yf\n",
    "stock_data_list = []\n",
    "\n",
    "# Iterate over each row in the \"start_end_dates\" DataFrame\n",
    "for index, row in start_end_dates.iterrows():\n",
    "    stock = row['stock']\n",
    "    start_date = row['start_date']\n",
    "    end_date = row['end_date']\n",
    "    \n",
    "    # Download the stock data using yfinance\n",
    "    stock_data = yf.download(stock, start=start_date, end=end_date)\n",
    "    \n",
    "    # Append the stock data to the list\n",
    "    stock_data_list.append(stock_data)\n",
    "\n",
    "# Concatenate all the stock data into a single DataFrame\n",
    "combined_stock_data = pd.concat(stock_data_list)\n",
    "# Print the combined stock data\n",
    "print(combined_stock_data.head())\n"
   ]
  }
 ],
 "metadata": {
  "kernelspec": {
   "display_name": "myenv",
   "language": "python",
   "name": "python3"
  },
  "language_info": {
   "codemirror_mode": {
    "name": "ipython",
    "version": 3
   },
   "file_extension": ".py",
   "mimetype": "text/x-python",
   "name": "python",
   "nbconvert_exporter": "python",
   "pygments_lexer": "ipython3",
   "version": "3.12.3"
  }
 },
 "nbformat": 4,
 "nbformat_minor": 2
}
