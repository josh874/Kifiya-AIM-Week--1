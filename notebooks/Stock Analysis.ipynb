{
 "cells": [
  {
   "cell_type": "code",
   "execution_count": 1,
   "metadata": {},
   "outputs": [],
   "source": [
    "import pandas as pd\n",
    "import numpy as np"
   ]
  },
  {
   "cell_type": "code",
   "execution_count": 2,
   "metadata": {},
   "outputs": [],
   "source": [
    "columns_to_load = ['stock', 'date']\n",
    "df = pd.read_csv('C:/Users/eyasu/Desktop/Kifiya/Week-1/raw_analyst_ratings.csv/raw_analyst_ratings.csv', usecols=columns_to_load)"
   ]
  },
  {
   "cell_type": "code",
   "execution_count": 3,
   "metadata": {},
   "outputs": [
    {
     "name": "stdout",
     "output_type": "stream",
     "text": [
      "                        date stock\n",
      "0  2020-06-05 10:30:54-04:00     A\n",
      "1  2020-06-03 10:45:20-04:00     A\n",
      "2  2020-05-26 04:30:07-04:00     A\n",
      "3  2020-05-22 12:45:06-04:00     A\n",
      "4  2020-05-22 11:38:59-04:00     A\n"
     ]
    }
   ],
   "source": [
    "print(df.head())"
   ]
  },
  {
   "cell_type": "code",
   "execution_count": 4,
   "metadata": {},
   "outputs": [],
   "source": [
    "from datetime import datetime\n",
    "from dateutil import parser\n",
    "\n",
    "def parse_date_with_default(date_string):\n",
    "    if isinstance(date_string, datetime):\n",
    "        date_string = date_string.strftime('%Y-%m-%d %H:%M:%S')\n",
    "    try:\n",
    "        parsed_date = parser.parse(date_string)\n",
    "        return parsed_date.date()\n",
    "    except ValueError:\n",
    "        raise ValueError(\"Invalid date format: \" + date_string)\n",
    "\n",
    "df['date'] = df['date'].apply(parse_date_with_default)"
   ]
  }
 ],
 "metadata": {
  "kernelspec": {
   "display_name": "myenv",
   "language": "python",
   "name": "python3"
  },
  "language_info": {
   "codemirror_mode": {
    "name": "ipython",
    "version": 3
   },
   "file_extension": ".py",
   "mimetype": "text/x-python",
   "name": "python",
   "nbconvert_exporter": "python",
   "pygments_lexer": "ipython3",
   "version": "3.12.3"
  }
 },
 "nbformat": 4,
 "nbformat_minor": 2
}
