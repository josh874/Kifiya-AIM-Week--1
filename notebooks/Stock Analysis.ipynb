{
 "cells": [
  {
   "cell_type": "code",
   "execution_count": 1,
   "metadata": {},
   "outputs": [],
   "source": [
    "import pandas as pd\n",
    "import numpy as np"
   ]
  },
  {
   "cell_type": "code",
   "execution_count": 2,
   "metadata": {},
   "outputs": [],
   "source": [
    "columns_to_load = ['stock', 'date']\n",
    "df = pd.read_csv('C:/Users/eyasu/Desktop/Kifiya/Week-1/raw_analyst_ratings.csv/raw_analyst_ratings.csv', usecols=columns_to_load)"
   ]
  },
  {
   "cell_type": "code",
   "execution_count": 3,
   "metadata": {},
   "outputs": [
    {
     "name": "stdout",
     "output_type": "stream",
     "text": [
      "                        date stock\n",
      "0  2020-06-05 10:30:54-04:00     A\n",
      "1  2020-06-03 10:45:20-04:00     A\n",
      "2  2020-05-26 04:30:07-04:00     A\n",
      "3  2020-05-22 12:45:06-04:00     A\n",
      "4  2020-05-22 11:38:59-04:00     A\n"
     ]
    }
   ],
   "source": [
    "print(df.head())"
   ]
  },
  {
   "cell_type": "code",
   "execution_count": 4,
   "metadata": {},
   "outputs": [],
   "source": [
    "from datetime import datetime\n",
    "from dateutil import parser\n",
    "\n",
    "def parse_date_with_default(date_string):\n",
    "    if isinstance(date_string, datetime):\n",
    "        date_string = date_string.strftime('%Y-%m-%d %H:%M:%S')\n",
    "    try:\n",
    "        parsed_date = parser.parse(date_string)\n",
    "        return parsed_date.date()\n",
    "    except ValueError:\n",
    "        raise ValueError(\"Invalid date format: \" + date_string)\n",
    "\n",
    "df['date'] = df['date'].apply(parse_date_with_default)"
   ]
  },
  {
   "cell_type": "code",
   "execution_count": 7,
   "metadata": {},
   "outputs": [
    {
     "name": "stdout",
     "output_type": "stream",
     "text": [
      "   stock  start_date    end_date\n",
      "0      A  2009-04-29  2020-06-05\n",
      "1     AA  2009-08-10  2020-06-09\n",
      "2    AAC  2010-03-25  2019-10-25\n",
      "3   AADR  2013-03-05  2013-09-06\n",
      "4    AAL  2011-05-16  2020-06-10\n",
      "5   AAMC  2014-02-26  2020-05-11\n",
      "6   AAME  2010-04-28  2020-05-11\n",
      "7    AAN  2009-08-10  2020-06-10\n",
      "8   AAOI  2013-09-26  2020-05-11\n",
      "9   AAON  2009-08-10  2020-05-15\n",
      "10   AAP  2009-08-13  2020-06-10\n",
      "11  AAPL  2020-03-09  2020-06-10\n",
      "12   AAU  2009-12-04  2018-10-11\n",
      "13   AAV  2009-08-12  2019-08-02\n",
      "14  AAVL  2014-07-21  2016-05-06\n",
      "15  AAWW  2009-12-12  2020-06-08\n",
      "16  AAXJ  2011-09-14  2017-08-14\n",
      "17    AB  2009-08-07  2020-05-12\n",
      "18  ABAC  2014-08-21  2019-01-15\n",
      "19  ABAX  2014-02-28  2018-08-01\n",
      "20   ABB  2009-11-27  2020-06-03\n",
      "21  ABBV  2013-01-02  2020-06-10\n",
      "22   ABC  2009-08-10  2020-06-05\n",
      "23  ABCB  2020-03-12  2020-05-22\n",
      "24  ABCD  2011-05-24  2018-11-01\n",
      "25  ABCO  2009-11-25  2017-11-15\n",
      "26  ABCW  2009-12-02  2016-01-29\n",
      "27  ABDC  2014-05-08  2019-11-05\n",
      "28  ABEV  2014-01-07  2020-06-08\n",
      "29   ABG  2010-09-01  2020-05-18\n",
      "30  ABGB  2013-10-17  2016-04-06\n",
      "31  ABIO  2019-05-20  2020-06-10\n",
      "32   ABM  2017-09-07  2020-05-27\n",
      "33  ABMD  2019-10-02  2020-06-05\n",
      "34   ABR  2009-10-23  2020-06-08\n",
      "35  ABTL  2010-06-27  2017-10-09\n",
      "36   ABX  2009-09-02  2019-08-02\n",
      "37   ABY  2014-06-02  2017-11-13\n",
      "38  ACAD  2009-07-27  2020-05-28\n",
      "39  ACAS  2009-09-04  2016-12-15\n",
      "40  ACAT  2010-04-15  2017-04-10\n",
      "41   ACC  2009-08-07  2020-06-05\n",
      "42  ACCO  2012-04-13  2020-05-04\n",
      "43  ACCU  2013-09-03  2013-09-03\n",
      "44   ACE  2009-08-12  2016-02-16\n",
      "45  ACET  2010-08-04  2019-03-11\n",
      "46  ACFC  2010-04-06  2018-05-10\n",
      "47  ACFN  2009-11-09  2015-11-16\n",
      "48   ACG  2014-06-25  2015-08-28\n",
      "49  ACGL  2009-11-06  2020-06-10\n"
     ]
    }
   ],
   "source": [
    "start_end_dates = df.groupby('stock')['date'].agg(['min', 'max']).reset_index()\n",
    "start_end_dates.columns = ['stock', 'start_date', 'end_date']\n",
    "print(start_end_dates.head(50))"
   ]
  },
  {
   "cell_type": "code",
   "execution_count": 17,
   "metadata": {},
   "outputs": [
    {
     "name": "stderr",
     "output_type": "stream",
     "text": [
      "[*********************100%%**********************]  1 of 1 completed\n",
      "[*********************100%%**********************]  1 of 1 completed\n",
      "[*********************100%%**********************]  1 of 1 completed\n",
      "\n",
      "1 Failed download:\n",
      "['AAC']: Exception('%ticker%: No timezone found, symbol may be delisted')\n",
      "[*********************100%%**********************]  1 of 1 completed\n",
      "[*********************100%%**********************]  1 of 1 completed\n",
      "[*********************100%%**********************]  1 of 1 completed\n",
      "\n",
      "1 Failed download:\n",
      "['AAMC']: Exception(\"%ticker%: Data doesn't exist for startDate = 1393390800, endDate = 1589169600\")\n",
      "[*********************100%%**********************]  1 of 1 completed\n",
      "[*********************100%%**********************]  1 of 1 completed\n",
      "\n",
      "1 Failed download:\n",
      "['AAN']: Exception(\"%ticker%: Data doesn't exist for startDate = 1249876800, endDate = 1591761600\")\n",
      "[*********************100%%**********************]  1 of 1 completed\n",
      "[*********************100%%**********************]  1 of 1 completed\n",
      "[*********************100%%**********************]  1 of 1 completed\n",
      "[*********************100%%**********************]  1 of 1 completed\n",
      "[*********************100%%**********************]  1 of 1 completed\n",
      "[*********************100%%**********************]  1 of 1 completed\n",
      "\n",
      "1 Failed download:\n",
      "['AAV']: Exception('%ticker%: No price data found, symbol may be delisted (1d 2009-08-12 -> 2019-08-02)')\n",
      "[*********************100%%**********************]  1 of 1 completed\n",
      "\n",
      "1 Failed download:\n",
      "['AAVL']: Exception(\"%ticker%: Data doesn't exist for startDate = 1405915200, endDate = 1462507200\")\n",
      "[*********************100%%**********************]  1 of 1 completed\n",
      "\n",
      "1 Failed download:\n",
      "['AAWW']: Exception('%ticker%: No timezone found, symbol may be delisted')\n",
      "[*********************100%%**********************]  1 of 1 completed\n",
      "[*********************100%%**********************]  1 of 1 completed\n",
      "[*********************100%%**********************]  1 of 1 completed\n",
      "\n",
      "1 Failed download:\n",
      "['ABAC']: Exception('%ticker%: No price data found, symbol may be delisted (1d 2014-08-21 -> 2019-01-15)')\n",
      "[*********************100%%**********************]  1 of 1 completed\n",
      "[*********************100%%**********************]  1 of 1 completed\n",
      "\n",
      "1 Failed download:\n",
      "['ABB']: Exception('%ticker%: No timezone found, symbol may be delisted')\n",
      "[*********************100%%**********************]  1 of 1 completed\n",
      "[*********************100%%**********************]  1 of 1 completed\n",
      "\n",
      "1 Failed download:\n",
      "['ABC']: Exception('%ticker%: No timezone found, symbol may be delisted')\n",
      "[*********************100%%**********************]  1 of 1 completed\n",
      "[*********************100%%**********************]  1 of 1 completed\n",
      "[*********************100%%**********************]  1 of 1 completed\n",
      "[*********************100%%**********************]  1 of 1 completed\n",
      "\n",
      "1 Failed download:\n",
      "['ABCW']: Exception('%ticker%: No price data found, symbol may be delisted (1d 2009-12-02 -> 2016-01-29)')\n",
      "[*********************100%%**********************]  1 of 1 completed\n",
      "\n",
      "1 Failed download:\n",
      "['ABDC']: Exception('%ticker%: No timezone found, symbol may be delisted')\n",
      "[*********************100%%**********************]  1 of 1 completed\n",
      "[*********************100%%**********************]  1 of 1 completed\n",
      "[*********************100%%**********************]  1 of 1 completed\n",
      "\n",
      "1 Failed download:\n",
      "['ABGB']: Exception('%ticker%: No price data found, symbol may be delisted (1d 2013-10-17 -> 2016-04-06)')\n",
      "[*********************100%%**********************]  1 of 1 completed\n",
      "[*********************100%%**********************]  1 of 1 completed\n",
      "[*********************100%%**********************]  1 of 1 completed\n",
      "[*********************100%%**********************]  1 of 1 completed\n",
      "[*********************100%%**********************]  1 of 1 completed\n",
      "\n",
      "1 Failed download:\n",
      "['ABTL']: Exception('%ticker%: No price data found, symbol may be delisted (1d 2010-06-27 -> 2017-10-09)')\n",
      "[*********************100%%**********************]  1 of 1 completed\n",
      "\n",
      "1 Failed download:\n",
      "['ABX']: Exception('%ticker%: No price data found, symbol may be delisted (1d 2009-09-02 -> 2019-08-02)')\n",
      "[*********************100%%**********************]  1 of 1 completed\n",
      "\n",
      "1 Failed download:\n",
      "['ABY']: Exception('%ticker%: No price data found, symbol may be delisted (1d 2014-06-02 -> 2017-11-13)')\n",
      "[*********************100%%**********************]  1 of 1 completed\n",
      "[*********************100%%**********************]  1 of 1 completed\n",
      "\n",
      "1 Failed download:\n",
      "['ACAS']: Exception('%ticker%: No price data found, symbol may be delisted (1d 2009-09-04 -> 2016-12-15)')\n",
      "[*********************100%%**********************]  1 of 1 completed\n",
      "\n",
      "1 Failed download:\n",
      "['ACAT']: Exception('%ticker%: No price data found, symbol may be delisted (1d 2010-04-15 -> 2017-04-10)')\n",
      "[*********************100%%**********************]  1 of 1 completed\n",
      "\n",
      "1 Failed download:\n",
      "['ACC']: Exception('%ticker%: No timezone found, symbol may be delisted')\n",
      "[*********************100%%**********************]  1 of 1 completed\n",
      "[*********************100%%**********************]  1 of 1 completed\n",
      "\n",
      "1 Failed download:\n",
      "['ACCU']: Exception(\"%ticker%: Period 'max' is invalid, must be one of ['1d', '5d']\")\n",
      "[*********************100%%**********************]  1 of 1 completed\n",
      "\n",
      "1 Failed download:\n",
      "['ACE']: Exception(\"%ticker%: Data doesn't exist for startDate = 1250049600, endDate = 1455598800\")\n",
      "[*********************100%%**********************]  1 of 1 completed\n",
      "[*********************100%%**********************]  1 of 1 completed\n",
      "[*********************100%%**********************]  1 of 1 completed\n",
      "[*********************100%%**********************]  1 of 1 completed\n",
      "\n",
      "1 Failed download:\n",
      "['ACG']: Exception(\"%ticker%: Data doesn't exist for startDate = 1403668800, endDate = 1440734400\")\n",
      "[*********************100%%**********************]  1 of 1 completed\n",
      "[*********************100%%**********************]  1 of 1 completed\n",
      "\n",
      "1 Failed download:\n",
      "['ACH']: Exception('%ticker%: No timezone found, symbol may be delisted')\n",
      "[*********************100%%**********************]  1 of 1 completed\n",
      "[*********************100%%**********************]  1 of 1 completed\n",
      "\n",
      "1 Failed download:\n",
      "['ACHN']: Exception('%ticker%: No timezone found, symbol may be delisted')\n",
      "[*********************100%%**********************]  1 of 1 completed\n",
      "[*********************100%%**********************]  1 of 1 completed\n",
      "[*********************100%%**********************]  1 of 1 completed\n",
      "[*********************100%%**********************]  1 of 1 completed\n",
      "\n",
      "1 Failed download:\n",
      "['ACMP']: Exception('%ticker%: No price data found, symbol may be delisted (1d 2012-08-09 -> 2015-01-26)')\n",
      "[*********************100%%**********************]  1 of 1 completed\n",
      "[*********************100%%**********************]  1 of 1 completed\n",
      "[*********************100%%**********************]  1 of 1 completed\n",
      "[*********************100%%**********************]  1 of 1 completed\n",
      "[*********************100%%**********************]  1 of 1 completed\n",
      "\n",
      "1 Failed download:\n",
      "['ACPW']: Exception('%ticker%: No price data found, symbol may be delisted (1d 2009-10-22 -> 2016-09-30)')\n",
      "[*********************100%%**********************]  1 of 1 completed\n",
      "[*********************100%%**********************]  1 of 1 completed\n",
      "\n",
      "1 Failed download:\n",
      "['ACRX']: Exception('%ticker%: No timezone found, symbol may be delisted')\n",
      "[*********************100%%**********************]  1 of 1 completed\n",
      "\n",
      "1 Failed download:\n",
      "['ACSF']: Exception('%ticker%: No timezone found, symbol may be delisted')\n",
      "[*********************100%%**********************]  1 of 1 completed\n",
      "[*********************100%%**********************]  1 of 1 completed\n",
      "\n",
      "1 Failed download:\n",
      "['ACT']: Exception(\"%ticker%: Data doesn't exist for startDate = 1360558800, endDate = 1585195200\")\n",
      "[*********************100%%**********************]  1 of 1 completed\n",
      "[*********************100%%**********************]  1 of 1 completed\n",
      "[*********************100%%**********************]  1 of 1 completed\n",
      "\n",
      "1 Failed download:\n",
      "['ACTS']: Exception('%ticker%: No price data found, symbol may be delisted (1d 2010-08-05 -> 2016-09-12)')\n",
      "[*********************100%%**********************]  1 of 1 completed\n",
      "[*********************100%%**********************]  1 of 1 completed\n",
      "[*********************100%%**********************]  1 of 1 completed\n",
      "[*********************100%%**********************]  1 of 1 completed\n",
      "[*********************100%%**********************]  1 of 1 completed\n",
      "[*********************100%%**********************]  1 of 1 completed\n",
      "\n",
      "1 Failed download:\n",
      "['ACXM']: Exception('%ticker%: No price data found, symbol may be delisted (1d 2009-08-10 -> 2018-09-25)')\n",
      "[*********************100%%**********************]  1 of 1 completed\n",
      "\n",
      "1 Failed download:\n",
      "['ACY']: Exception('%ticker%: No timezone found, symbol may be delisted')\n",
      "[*********************100%%**********************]  1 of 1 completed\n",
      "\n",
      "1 Failed download:\n",
      "['ADAT']: Exception('%ticker%: No price data found, symbol may be delisted (1d 2009-12-08 -> 2016-03-04)')\n",
      "[*********************100%%**********************]  1 of 1 completed\n",
      "[*********************100%%**********************]  1 of 1 completed\n",
      "[*********************100%%**********************]  1 of 1 completed\n",
      "\n",
      "1 Failed download:\n",
      "['ADEP']: Exception('%ticker%: No price data found, symbol may be delisted (1d 2010-04-19 -> 2015-10-09)')\n",
      "[*********************100%%**********************]  1 of 1 completed\n",
      "\n",
      "1 Failed download:\n",
      "['ADES']: Exception('%ticker%: No timezone found, symbol may be delisted')\n",
      "[*********************100%%**********************]  1 of 1 completed\n",
      "\n",
      "1 Failed download:\n",
      "['ADGE']: Exception('%ticker%: No price data found, symbol may be delisted (1d 2010-12-09 -> 2017-04-13)')\n",
      "[*********************100%%**********************]  1 of 1 completed\n",
      "\n",
      "1 Failed download:\n",
      "['ADHD']: Exception('%ticker%: No price data found, symbol may be delisted (1d 2013-01-14 -> 2017-11-09)')\n",
      "[*********************100%%**********************]  1 of 1 completed\n",
      "[*********************100%%**********************]  1 of 1 completed\n",
      "\n",
      "1 Failed download:\n",
      "['ADK']: Exception(\"%ticker%: Data doesn't exist for startDate = 1282795200, endDate = 1505880000\")\n",
      "[*********************100%%**********************]  1 of 1 completed\n",
      "[*********************100%%**********************]  1 of 1 completed\n",
      "[*********************100%%**********************]  1 of 1 completed\n",
      "\n",
      "1 Failed download:\n",
      "['ADMP']: Exception('%ticker%: No timezone found, symbol may be delisted')\n",
      "[*********************100%%**********************]  1 of 1 completed\n",
      "\n",
      "1 Failed download:\n",
      "['ADMS']: Exception('%ticker%: No timezone found, symbol may be delisted')\n",
      "[*********************100%%**********************]  1 of 1 completed\n",
      "\n",
      "1 Failed download:\n",
      "['ADNC']: Exception('%ticker%: No price data found, symbol may be delisted (1d 2012-05-10 -> 2015-04-30)')\n",
      "[*********************100%%**********************]  1 of 1 completed\n",
      "[*********************100%%**********************]  1 of 1 completed\n",
      "[*********************100%%**********************]  1 of 1 completed\n",
      "\n",
      "1 Failed download:\n",
      "['ADRA']: Exception('%ticker%: No timezone found, symbol may be delisted')\n",
      "[*********************100%%**********************]  1 of 1 completed\n",
      "\n",
      "1 Failed download:\n",
      "['ADRD']: Exception('%ticker%: No price data found, symbol may be delisted (1d 2013-03-05 -> 2013-03-05)')\n",
      "[*********************100%%**********************]  1 of 1 completed\n",
      "[*********************100%%**********************]  1 of 1 completed\n",
      "[*********************100%%**********************]  1 of 1 completed\n",
      "\n",
      "1 Failed download:\n",
      "['ADS']: Exception('%ticker%: No timezone found, symbol may be delisted')\n",
      "[*********************100%%**********************]  1 of 1 completed\n",
      "[*********************100%%**********************]  1 of 1 completed\n",
      "[*********************100%%**********************]  1 of 1 completed\n",
      "[*********************100%%**********************]  1 of 1 completed\n",
      "\n",
      "1 Failed download:\n",
      "['ADVS']: Exception('%ticker%: No price data found, symbol may be delisted (1d 2010-01-19 -> 2015-05-18)')\n",
      "[*********************100%%**********************]  1 of 1 completed\n",
      "[*********************100%%**********************]  1 of 1 completed\n",
      "[*********************100%%**********************]  1 of 1 completed\n",
      "\n",
      "1 Failed download:\n",
      "['ADZ']: Exception('%ticker%: No price data found, symbol may be delisted (1d 2012-02-09 -> 2012-02-09)')\n",
      "[*********************100%%**********************]  1 of 1 completed\n",
      "[*********************100%%**********************]  1 of 1 completed\n",
      "\n",
      "1 Failed download:\n",
      "['AEB']: Exception('%ticker%: No price data found, symbol may be delisted (1d 2013-10-01 -> 2013-10-01)')\n",
      "[*********************100%%**********************]  1 of 1 completed\n",
      "\n",
      "1 Failed download:\n",
      "['AEC']: Exception('%ticker%: No price data found, symbol may be delisted (1d 2014-02-04 -> 2015-06-08)')\n",
      "[*********************100%%**********************]  1 of 1 completed\n",
      "[*********************100%%**********************]  1 of 1 completed\n",
      "[*********************100%%**********************]  1 of 1 completed\n",
      "\n",
      "1 Failed download:\n",
      "['AEGN']: Exception('%ticker%: No timezone found, symbol may be delisted')\n",
      "[*********************100%%**********************]  1 of 1 completed\n",
      "\n",
      "1 Failed download:\n",
      "['AEGR']: Exception('%ticker%: No price data found, symbol may be delisted (1d 2011-03-28 -> 2016-11-17)')\n",
      "[*********************100%%**********************]  1 of 1 completed\n",
      "[*********************100%%**********************]  1 of 1 completed\n",
      "[*********************100%%**********************]  1 of 1 completed\n",
      "[*********************100%%**********************]  1 of 1 completed\n",
      "[*********************100%%**********************]  1 of 1 completed\n",
      "[*********************100%%**********************]  1 of 1 completed\n",
      "\n",
      "1 Failed download:\n",
      "['AEPI']: Exception('%ticker%: No price data found, symbol may be delisted (1d 2009-10-09 -> 2017-06-14)')\n",
      "[*********************100%%**********************]  1 of 1 completed\n",
      "[*********************100%%**********************]  1 of 1 completed\n",
      "\n",
      "1 Failed download:\n",
      "['AERI']: Exception('%ticker%: No timezone found, symbol may be delisted')\n",
      "[*********************100%%**********************]  1 of 1 completed\n",
      "[*********************100%%**********************]  1 of 1 completed\n",
      "[*********************100%%**********************]  1 of 1 completed\n",
      "\n",
      "1 Failed download:\n",
      "['AETI']: Exception('%ticker%: No timezone found, symbol may be delisted')\n",
      "[*********************100%%**********************]  1 of 1 completed\n",
      "\n",
      "1 Failed download:\n",
      "['AEY']: Exception('%ticker%: No timezone found, symbol may be delisted')\n",
      "[*********************100%%**********************]  1 of 1 completed\n",
      "[*********************100%%**********************]  1 of 1 completed\n",
      "\n",
      "1 Failed download:\n",
      "['AF']: Exception('%ticker%: No price data found, symbol may be delisted (1d 2009-08-10 -> 2017-09-26)')\n",
      "[*********************100%%**********************]  1 of 1 completed\n",
      "\n",
      "1 Failed download:\n",
      "['AFA']: Exception('%ticker%: No timezone found, symbol may be delisted')\n",
      "[*********************100%%**********************]  1 of 1 completed\n",
      "[*********************100%%**********************]  1 of 1 completed\n",
      "[*********************100%%**********************]  1 of 1 completed\n",
      "\n",
      "1 Failed download:\n",
      "['AFC']: Exception('%ticker%: No timezone found, symbol may be delisted')\n",
      "[*********************100%%**********************]  1 of 1 completed\n",
      "[*********************100%%**********************]  1 of 1 completed\n",
      "\n",
      "1 Failed download:\n",
      "['AFFX']: Exception('%ticker%: No price data found, symbol may be delisted (1d 2009-08-10 -> 2016-03-31)')\n",
      "[*********************100%%**********************]  1 of 1 completed\n",
      "[*********************100%%**********************]  1 of 1 completed\n",
      "\n",
      "1 Failed download:\n",
      "['AFH']: Exception('%ticker%: No timezone found, symbol may be delisted')\n",
      "[*********************100%%**********************]  1 of 1 completed\n",
      "[*********************100%%**********************]  1 of 1 completed\n",
      "[*********************100%%**********************]  1 of 1 completed\n",
      "[*********************100%%**********************]  1 of 1 completed\n",
      "\n",
      "1 Failed download:\n",
      "['AFOP']: Exception('%ticker%: No price data found, symbol may be delisted (1d 2010-10-04 -> 2016-04-20)')\n",
      "[*********************100%%**********************]  1 of 1 completed\n",
      "[*********************100%%**********************]  1 of 1 completed\n",
      "[*********************100%%**********************]  1 of 1 completed\n",
      "[*********************100%%**********************]  1 of 1 completed\n",
      "[*********************100%%**********************]  1 of 1 completed\n",
      "\n",
      "1 Failed download:\n",
      "['AGC']: Exception('%ticker%: No timezone found, symbol may be delisted')\n",
      "[*********************100%%**********************]  1 of 1 completed\n",
      "[*********************100%%**********************]  1 of 1 completed\n",
      "[*********************100%%**********************]  1 of 1 completed\n",
      "[*********************100%%**********************]  1 of 1 completed\n",
      "[*********************100%%**********************]  1 of 1 completed\n",
      "[*********************100%%**********************]  1 of 1 completed\n",
      "\n",
      "1 Failed download:\n",
      "['AGII']: Exception('%ticker%: No price data found, symbol may be delisted (1d 2010-01-11 -> 2018-04-23)')\n",
      "[*********************100%%**********************]  1 of 1 completed"
     ]
    },
    {
     "name": "stdout",
     "output_type": "stream",
     "text": [
      "                 Open       High        Low      Close  Adj Close     Volume  \\\n",
      "Date                                                                           \n",
      "2009-04-29  12.310443  13.011445  12.238913  12.896996  11.591174  5516508.0   \n",
      "2009-04-30  12.947067  13.547926  12.947067  13.061516  11.739035  4977998.0   \n",
      "2009-05-01  13.025751  13.590844  13.004292  13.454936  12.092623  4039241.0   \n",
      "2009-05-04  13.454936  13.891273  13.412017  13.891273  12.484781  3885042.0   \n",
      "2009-05-05  13.848355  13.876967  13.283262  13.397711  12.041190  4895656.0   \n",
      "...               ...        ...        ...        ...        ...        ...   \n",
      "2020-06-02  51.950001  52.750000  51.240002  52.290001  52.290001   507800.0   \n",
      "2020-06-03  52.330002  52.889999  50.970001  51.040001  51.040001   487400.0   \n",
      "2020-06-04  50.740002  52.130001  49.259998  49.570000  49.570000   401800.0   \n",
      "2020-06-05  50.250000  51.220001  48.270000  50.660000  50.660000   522900.0   \n",
      "2020-06-08  50.750000  52.380001  49.740002  52.230000  52.230000   427800.0   \n",
      "\n",
      "           stock  \n",
      "Date              \n",
      "2009-04-29     A  \n",
      "2009-04-30     A  \n",
      "2009-05-01     A  \n",
      "2009-05-04     A  \n",
      "2009-05-05     A  \n",
      "...          ...  \n",
      "2020-06-02  AGIO  \n",
      "2020-06-03  AGIO  \n",
      "2020-06-04  AGIO  \n",
      "2020-06-05  AGIO  \n",
      "2020-06-08  AGIO  \n",
      "\n",
      "[178049 rows x 7 columns]\n"
     ]
    },
    {
     "name": "stderr",
     "output_type": "stream",
     "text": [
      "\n",
      "C:\\Users\\eyasu\\AppData\\Local\\Temp\\ipykernel_8916\\2894478182.py:26: FutureWarning: The behavior of array concatenation with empty entries is deprecated. In a future version, this will no longer exclude empty items when determining the result dtype. To retain the old behavior, exclude the empty entries before the concat operation.\n",
      "  combined_stock_data = pd.concat(stock_data_list)\n"
     ]
    }
   ],
   "source": [
    "import yfinance as yf\n",
    "import pandas as pd\n",
    "\n",
    "# Get the first 150 stock tickers from the start_end_dates DataFrame\n",
    "stock_tickers = start_end_dates['stock'].head(150)\n",
    "\n",
    "stock_data_list = []\n",
    "\n",
    "# Iterate over each stock ticker\n",
    "for stock in stock_tickers:\n",
    "    # Get the corresponding start date and end date for the stock\n",
    "    stock_dates = start_end_dates.loc[start_end_dates['stock'] == stock, ['start_date', 'end_date']].values[0]\n",
    "    start_date = stock_dates[0]\n",
    "    end_date = stock_dates[1]\n",
    "    \n",
    "    # Download the stock data using yfinance\n",
    "    stock_data = yf.download(stock, start=start_date, end=end_date)\n",
    "    \n",
    "    # Add the 'stock' column to the stock_data DataFrame\n",
    "    stock_data['stock'] = stock\n",
    "    \n",
    "    # Append the stock data to the list\n",
    "    stock_data_list.append(stock_data)\n",
    "\n",
    "# Concatenate all the stock data into a single DataFrame\n",
    "combined_stock_data = pd.concat(stock_data_list)\n",
    "\n",
    "# Print the combined stock data\n",
    "print(combined_stock_data)\n",
    "  \n"
   ]
  },
  {
   "cell_type": "code",
   "execution_count": 33,
   "metadata": {},
   "outputs": [
    {
     "name": "stderr",
     "output_type": "stream",
     "text": [
      "[*********************100%%**********************]  1 of 1 completed\n"
     ]
    },
    {
     "name": "stdout",
     "output_type": "stream",
     "text": [
      "Stock: A\n",
      "                 Open       High        Low      Close  Adj Close   Volume  \\\n",
      "Date                                                                         \n",
      "2009-04-29  12.310443  13.011445  12.238913  12.896996  11.591174  5516508   \n",
      "2009-04-30  12.947067  13.547926  12.947067  13.061516  11.739038  4977998   \n",
      "2009-05-01  13.025751  13.590844  13.004292  13.454936  12.092626  4039241   \n",
      "2009-05-04  13.454936  13.891273  13.412017  13.891273  12.484779  3885042   \n",
      "2009-05-05  13.848355  13.876967  13.283262  13.397711  12.041192  4895656   \n",
      "\n",
      "                SMA_2      SMA_3  RSI  MACD_Line  MACD_Signal  MACD_Histogram  \n",
      "Date                                                                           \n",
      "2009-04-29        NaN        NaN  NaN        NaN          NaN             NaN  \n",
      "2009-04-30  12.979256        NaN  NaN        NaN          NaN             NaN  \n",
      "2009-05-01  13.258226  13.137816  NaN        NaN          NaN             NaN  \n",
      "2009-05-04  13.673104  13.469241  NaN        NaN          NaN             NaN  \n",
      "2009-05-05  13.644492  13.581306  NaN        NaN          NaN             NaN  \n",
      "\n"
     ]
    },
    {
     "name": "stderr",
     "output_type": "stream",
     "text": [
      "[*********************100%%**********************]  1 of 1 completed\n"
     ]
    },
    {
     "name": "stdout",
     "output_type": "stream",
     "text": [
      "Stock: AA\n",
      "                 Open       High        Low      Close  Adj Close    Volume  \\\n",
      "Date                                                                          \n",
      "2009-08-10  30.950640  31.383181  30.205709  30.494070  27.451967  12441906   \n",
      "2009-08-11  30.301830  30.782431  29.845261  30.542130  27.495235  13131169   \n",
      "2009-08-12  30.085560  31.551390  29.917351  31.142879  28.036049  14552643   \n",
      "2009-08-13  31.983931  33.041248  31.527361  32.945129  29.658516  15589263   \n",
      "2009-08-14  33.161400  33.353642  31.503330  31.887810  28.706663  14639409   \n",
      "\n",
      "                SMA_2      SMA_3  RSI  MACD_Line  MACD_Signal  MACD_Histogram  \n",
      "Date                                                                           \n",
      "2009-08-10        NaN        NaN  NaN        NaN          NaN             NaN  \n",
      "2009-08-11  30.518100        NaN  NaN        NaN          NaN             NaN  \n",
      "2009-08-12  30.842505  30.726360  NaN        NaN          NaN             NaN  \n",
      "2009-08-13  32.044004  31.543379  NaN        NaN          NaN             NaN  \n",
      "2009-08-14  32.416470  31.991940  NaN        NaN          NaN             NaN  \n",
      "\n"
     ]
    },
    {
     "name": "stderr",
     "output_type": "stream",
     "text": [
      "[*********************100%%**********************]  1 of 1 completed\n"
     ]
    },
    {
     "name": "stdout",
     "output_type": "stream",
     "text": [
      "Stock: AADR\n",
      "                 Open       High        Low      Close  Adj Close  Volume  \\\n",
      "Date                                                                        \n",
      "2013-03-05  33.310001  33.310001  33.310001  33.310001  30.201908     300   \n",
      "2013-03-06  33.290001  33.290001  33.220001  33.220001  30.120310     300   \n",
      "2013-03-07  33.410000  33.410000  32.970001  33.130001  30.038706    1500   \n",
      "2013-03-08  33.009998  33.250000  33.009998  33.250000  30.147512    1300   \n",
      "2013-03-11  33.330002  33.360001  32.959999  33.060001  29.975241    1800   \n",
      "\n",
      "                SMA_2      SMA_3  RSI  MACD_Line  MACD_Signal  MACD_Histogram  \n",
      "Date                                                                           \n",
      "2013-03-05        NaN        NaN  NaN        NaN          NaN             NaN  \n",
      "2013-03-06  33.265001        NaN  NaN        NaN          NaN             NaN  \n",
      "2013-03-07  33.175001  33.220001  NaN        NaN          NaN             NaN  \n",
      "2013-03-08  33.190001  33.200001  NaN        NaN          NaN             NaN  \n",
      "2013-03-11  33.155001  33.146667  NaN        NaN          NaN             NaN  \n",
      "\n"
     ]
    },
    {
     "name": "stderr",
     "output_type": "stream",
     "text": [
      "[*********************100%%**********************]  1 of 1 completed\n"
     ]
    },
    {
     "name": "stdout",
     "output_type": "stream",
     "text": [
      "Stock: AAL\n",
      "             Open   High    Low  Close  Adj Close    Volume   SMA_2  \\\n",
      "Date                                                                  \n",
      "2011-05-16   9.55   9.98   9.53   9.94   9.370852   6887400     NaN   \n",
      "2011-05-17   9.86  10.05   9.78   9.80   9.238867   5156200   9.870   \n",
      "2011-05-18   9.76   9.77   9.41   9.67   9.116309   5936200   9.735   \n",
      "2011-05-19   9.78  10.35   9.64  10.32   9.729093  13517000   9.995   \n",
      "2011-05-20  10.25  10.32  10.11  10.17   9.587681   6661100  10.245   \n",
      "\n",
      "                SMA_3  RSI  MACD_Line  MACD_Signal  MACD_Histogram  \n",
      "Date                                                                \n",
      "2011-05-16        NaN  NaN        NaN          NaN             NaN  \n",
      "2011-05-17        NaN  NaN        NaN          NaN             NaN  \n",
      "2011-05-18   9.803333  NaN        NaN          NaN             NaN  \n",
      "2011-05-19   9.930000  NaN        NaN          NaN             NaN  \n",
      "2011-05-20  10.053333  NaN        NaN          NaN             NaN  \n",
      "\n"
     ]
    },
    {
     "name": "stderr",
     "output_type": "stream",
     "text": [
      "[*********************100%%**********************]  1 of 1 completed\n"
     ]
    },
    {
     "name": "stdout",
     "output_type": "stream",
     "text": [
      "Stock: AAME\n",
      "            Open  High   Low  Close  Adj Close  Volume  SMA_2     SMA_3  RSI  \\\n",
      "Date                                                                           \n",
      "2010-04-28  1.65  1.84  1.65   1.82   1.631030   14900    NaN       NaN  NaN   \n",
      "2010-04-29  1.90  1.91  1.85   1.87   1.675839    4900  1.845       NaN  NaN   \n",
      "2010-04-30  1.78  1.88  1.76   1.79   1.604145    7300  1.830  1.826667  NaN   \n",
      "2010-05-03  1.76  1.82  1.76   1.82   1.631030     400  1.805  1.826667  NaN   \n",
      "2010-05-04  1.77  1.81  1.65   1.70   1.523490   16500  1.760  1.770000  NaN   \n",
      "\n",
      "            MACD_Line  MACD_Signal  MACD_Histogram  \n",
      "Date                                                \n",
      "2010-04-28        NaN          NaN             NaN  \n",
      "2010-04-29        NaN          NaN             NaN  \n",
      "2010-04-30        NaN          NaN             NaN  \n",
      "2010-05-03        NaN          NaN             NaN  \n",
      "2010-05-04        NaN          NaN             NaN  \n",
      "\n"
     ]
    },
    {
     "name": "stderr",
     "output_type": "stream",
     "text": [
      "[*********************100%%**********************]  1 of 1 completed\n"
     ]
    },
    {
     "name": "stdout",
     "output_type": "stream",
     "text": [
      "Stock: AAOI\n",
      "             Open   High    Low  Close  Adj Close  Volume   SMA_2      SMA_3  \\\n",
      "Date                                                                           \n",
      "2013-09-26  10.00  10.09   9.37   9.96       9.96  946000     NaN        NaN   \n",
      "2013-09-27  10.44  10.44  10.00  10.10      10.10  253300  10.030        NaN   \n",
      "2013-09-30  10.00  10.18   9.71  10.00      10.00   84900  10.050  10.020000   \n",
      "2013-10-01   9.95  10.02   9.92  10.00      10.00   74500  10.000  10.033333   \n",
      "2013-10-02   9.99  10.00   9.89   9.97       9.97   94000   9.985   9.990000   \n",
      "\n",
      "            RSI  MACD_Line  MACD_Signal  MACD_Histogram  \n",
      "Date                                                     \n",
      "2013-09-26  NaN        NaN          NaN             NaN  \n",
      "2013-09-27  NaN        NaN          NaN             NaN  \n",
      "2013-09-30  NaN        NaN          NaN             NaN  \n",
      "2013-10-01  NaN        NaN          NaN             NaN  \n",
      "2013-10-02  NaN        NaN          NaN             NaN  \n",
      "\n"
     ]
    },
    {
     "name": "stderr",
     "output_type": "stream",
     "text": [
      "[*********************100%%**********************]  1 of 1 completed\n"
     ]
    },
    {
     "name": "stdout",
     "output_type": "stream",
     "text": [
      "Stock: AAON\n",
      "                Open      High       Low     Close  Adj Close   Volume  \\\n",
      "Date                                                                     \n",
      "2009-08-10  4.069136  4.069136  3.972346  4.015802   3.518068   218194   \n",
      "2009-08-11  3.982222  4.114568  3.897284  3.924938   3.438465   265275   \n",
      "2009-08-12  4.227160  4.387160  4.108642  4.339753   3.801867  2423419   \n",
      "2009-08-13  4.373333  4.373333  4.266667  4.331852   3.794945   755831   \n",
      "2009-08-14  4.304198  4.333827  4.189630  4.288395   3.756875   559913   \n",
      "\n",
      "               SMA_2     SMA_3  RSI  MACD_Line  MACD_Signal  MACD_Histogram  \n",
      "Date                                                                         \n",
      "2009-08-10       NaN       NaN  NaN        NaN          NaN             NaN  \n",
      "2009-08-11  3.970370       NaN  NaN        NaN          NaN             NaN  \n",
      "2009-08-12  4.132346  4.093498  NaN        NaN          NaN             NaN  \n",
      "2009-08-13  4.335803  4.198848  NaN        NaN          NaN             NaN  \n",
      "2009-08-14  4.310123  4.320000  NaN        NaN          NaN             NaN  \n",
      "\n"
     ]
    },
    {
     "name": "stderr",
     "output_type": "stream",
     "text": [
      "[*********************100%%**********************]  1 of 1 completed\n"
     ]
    },
    {
     "name": "stdout",
     "output_type": "stream",
     "text": [
      "Stock: AAP\n",
      "                 Open       High        Low      Close  Adj Close   Volume  \\\n",
      "Date                                                                         \n",
      "2009-08-13  43.119999  43.560001  41.540001  43.270000  38.602779  5816600   \n",
      "2009-08-14  43.810001  43.849998  42.919998  43.150002  38.495716  2274200   \n",
      "2009-08-17  42.369999  43.500000  42.189999  43.070000  38.424358  1646700   \n",
      "2009-08-18  43.169998  43.770000  42.880001  43.099998  38.451118  1674400   \n",
      "2009-08-19  42.799999  43.820000  42.779999  43.720001  39.004250  1927300   \n",
      "\n",
      "                SMA_2      SMA_3  RSI  MACD_Line  MACD_Signal  MACD_Histogram  \n",
      "Date                                                                           \n",
      "2009-08-13        NaN        NaN  NaN        NaN          NaN             NaN  \n",
      "2009-08-14  43.210001        NaN  NaN        NaN          NaN             NaN  \n",
      "2009-08-17  43.110001  43.163334  NaN        NaN          NaN             NaN  \n",
      "2009-08-18  43.084999  43.106667  NaN        NaN          NaN             NaN  \n",
      "2009-08-19  43.410000  43.296666  NaN        NaN          NaN             NaN  \n",
      "\n"
     ]
    },
    {
     "name": "stderr",
     "output_type": "stream",
     "text": [
      "[*********************100%%**********************]  1 of 1 completed\n"
     ]
    },
    {
     "name": "stdout",
     "output_type": "stream",
     "text": [
      "Stock: AAPL\n",
      "                 Open       High        Low      Close  Adj Close     Volume  \\\n",
      "Date                                                                           \n",
      "2020-03-09  65.937500  69.522499  65.750000  66.542503  64.898888  286744800   \n",
      "2020-03-10  69.285004  71.610001  67.342499  71.334999  69.572998  285290000   \n",
      "2020-03-11  69.347504  70.305000  67.964996  68.857498  67.156700  255598800   \n",
      "2020-03-12  63.985001  67.500000  62.000000  62.057499  60.524654  418474000   \n",
      "2020-03-13  66.222504  69.980003  63.237499  69.492500  67.776001  370732000   \n",
      "\n",
      "                SMA_2      SMA_3  RSI  MACD_Line  MACD_Signal  MACD_Histogram  \n",
      "Date                                                                           \n",
      "2020-03-09        NaN        NaN  NaN        NaN          NaN             NaN  \n",
      "2020-03-10  68.938751        NaN  NaN        NaN          NaN             NaN  \n",
      "2020-03-11  70.096249  68.911667  NaN        NaN          NaN             NaN  \n",
      "2020-03-12  65.457499  67.416665  NaN        NaN          NaN             NaN  \n",
      "2020-03-13  65.775000  66.802499  NaN        NaN          NaN             NaN  \n",
      "\n"
     ]
    },
    {
     "name": "stderr",
     "output_type": "stream",
     "text": [
      "[*********************100%%**********************]  1 of 1 completed\n"
     ]
    },
    {
     "name": "stdout",
     "output_type": "stream",
     "text": [
      "Stock: AAU\n",
      "            Open  High   Low   Close  Adj Close  Volume   SMA_2   SMA_3  RSI  \\\n",
      "Date                                                                           \n",
      "2009-12-04  1.11  1.12  1.03  1.0800     1.0800  963500     NaN     NaN  NaN   \n",
      "2009-12-07  1.06  1.12  0.99  1.0880     1.0880  474452  1.0840     NaN  NaN   \n",
      "2009-12-08  1.10  1.10  1.00  1.0264     1.0264  170224  1.0572  1.0648  NaN   \n",
      "2009-12-09  1.06  1.20  1.04  1.2000     1.2000  330364  1.1132  1.1048  NaN   \n",
      "2009-12-10  1.15  1.15  1.08  1.1000     1.1000  312162  1.1500  1.1088  NaN   \n",
      "\n",
      "            MACD_Line  MACD_Signal  MACD_Histogram  \n",
      "Date                                                \n",
      "2009-12-04        NaN          NaN             NaN  \n",
      "2009-12-07        NaN          NaN             NaN  \n",
      "2009-12-08        NaN          NaN             NaN  \n",
      "2009-12-09        NaN          NaN             NaN  \n",
      "2009-12-10        NaN          NaN             NaN  \n",
      "\n"
     ]
    },
    {
     "name": "stderr",
     "output_type": "stream",
     "text": [
      "[*********************100%%**********************]  1 of 1 completed\n"
     ]
    },
    {
     "name": "stdout",
     "output_type": "stream",
     "text": [
      "Stock: AAXJ\n",
      "                 Open       High        Low      Close  Adj Close   Volume  \\\n",
      "Date                                                                         \n",
      "2011-09-14  52.580002  53.130001  51.720001  52.759998  41.650257   253500   \n",
      "2011-09-15  53.029999  53.369999  52.650002  53.220001  42.013401   219900   \n",
      "2011-09-16  53.580002  53.810001  53.139999  53.700001  42.392311  1315700   \n",
      "2011-09-19  51.910000  52.279999  51.509998  52.070000  41.105549   167300   \n",
      "2011-09-20  52.230000  52.660000  51.770000  51.790001  40.884499   247200   \n",
      "\n",
      "                SMA_2      SMA_3  RSI  MACD_Line  MACD_Signal  MACD_Histogram  \n",
      "Date                                                                           \n",
      "2011-09-14        NaN        NaN  NaN        NaN          NaN             NaN  \n",
      "2011-09-15  52.990000        NaN  NaN        NaN          NaN             NaN  \n",
      "2011-09-16  53.460001  53.226667  NaN        NaN          NaN             NaN  \n",
      "2011-09-19  52.885000  52.996667  NaN        NaN          NaN             NaN  \n",
      "2011-09-20  51.930000  52.520000  NaN        NaN          NaN             NaN  \n",
      "\n"
     ]
    },
    {
     "name": "stderr",
     "output_type": "stream",
     "text": [
      "[*********************100%%**********************]  1 of 1 completed\n"
     ]
    },
    {
     "name": "stdout",
     "output_type": "stream",
     "text": [
      "Stock: AB\n",
      "                 Open       High        Low      Close  Adj Close  Volume  \\\n",
      "Date                                                                        \n",
      "2009-08-07  21.150000  21.719999  20.270000  21.420000   6.774146  948900   \n",
      "2009-08-10  21.309999  21.400000  20.809999  21.129999   6.682435  397300   \n",
      "2009-08-11  20.940001  20.940001  20.340000  20.680000   6.540121  395000   \n",
      "2009-08-12  20.680000  21.410000  20.590000  21.139999   6.685596  596700   \n",
      "2009-08-13  21.639999  21.920000  21.139999  21.850000   6.910136  484200   \n",
      "\n",
      "             SMA_2      SMA_3  RSI  MACD_Line  MACD_Signal  MACD_Histogram  \n",
      "Date                                                                        \n",
      "2009-08-07     NaN        NaN  NaN        NaN          NaN             NaN  \n",
      "2009-08-10  21.275        NaN  NaN        NaN          NaN             NaN  \n",
      "2009-08-11  20.905  21.076667  NaN        NaN          NaN             NaN  \n",
      "2009-08-12  20.910  20.983333  NaN        NaN          NaN             NaN  \n",
      "2009-08-13  21.495  21.223333  NaN        NaN          NaN             NaN  \n",
      "\n"
     ]
    },
    {
     "name": "stderr",
     "output_type": "stream",
     "text": [
      "[*********************100%%**********************]  1 of 1 completed\n"
     ]
    },
    {
     "name": "stdout",
     "output_type": "stream",
     "text": [
      "Stock: ABAX\n",
      "                 Open       High        Low      Close  Adj Close  Volume  \\\n",
      "Date                                                                        \n",
      "2014-02-28  37.990002  38.410000  37.325001  37.950001  36.415554  293636   \n",
      "2014-03-03  37.650002  38.110001  37.470001  37.700001  36.175663  108083   \n",
      "2014-03-04  38.150002  39.230000  38.150002  38.689999  37.125633  249200   \n",
      "2014-03-05  38.590000  38.959999  38.389999  38.880001  37.307949  146662   \n",
      "2014-03-06  38.860001  39.180000  38.615002  39.009998  37.432693  125951   \n",
      "\n",
      "                SMA_2      SMA_3  RSI  MACD_Line  MACD_Signal  MACD_Histogram  \n",
      "Date                                                                           \n",
      "2014-02-28        NaN        NaN  NaN        NaN          NaN             NaN  \n",
      "2014-03-03  37.825001        NaN  NaN        NaN          NaN             NaN  \n",
      "2014-03-04  38.195000  38.113333  NaN        NaN          NaN             NaN  \n",
      "2014-03-05  38.785000  38.423333  NaN        NaN          NaN             NaN  \n",
      "2014-03-06  38.945000  38.859999  NaN        NaN          NaN             NaN  \n",
      "\n"
     ]
    },
    {
     "name": "stderr",
     "output_type": "stream",
     "text": [
      "[*********************100%%**********************]  1 of 1 completed\n"
     ]
    },
    {
     "name": "stdout",
     "output_type": "stream",
     "text": [
      "Stock: ABBV\n",
      "                 Open       High        Low      Close  Adj Close    Volume  \\\n",
      "Date                                                                          \n",
      "2013-01-02  34.919998  35.400002  34.099998  35.119999  22.002176  13767900   \n",
      "2013-01-03  35.000000  35.000000  34.160000  34.830002  21.820499  16739300   \n",
      "2013-01-04  34.619999  34.889999  34.250000  34.389999  21.544842  21372100   \n",
      "2013-01-07  34.150002  35.450001  34.150002  34.459999  21.588697  17897100   \n",
      "2013-01-08  34.290001  34.639999  33.360001  33.709999  21.118837  17863300   \n",
      "\n",
      "                SMA_2      SMA_3  RSI  MACD_Line  MACD_Signal  MACD_Histogram  \n",
      "Date                                                                           \n",
      "2013-01-02        NaN        NaN  NaN        NaN          NaN             NaN  \n",
      "2013-01-03  34.975000        NaN  NaN        NaN          NaN             NaN  \n",
      "2013-01-04  34.610001  34.780000  NaN        NaN          NaN             NaN  \n",
      "2013-01-07  34.424999  34.560000  NaN        NaN          NaN             NaN  \n",
      "2013-01-08  34.084999  34.186666  NaN        NaN          NaN             NaN  \n",
      "\n"
     ]
    },
    {
     "name": "stderr",
     "output_type": "stream",
     "text": [
      "[*********************100%%**********************]  1 of 1 completed\n"
     ]
    },
    {
     "name": "stdout",
     "output_type": "stream",
     "text": [
      "Stock: ABCB\n",
      "                 Open       High        Low      Close  Adj Close   Volume  \\\n",
      "Date                                                                         \n",
      "2020-03-12  24.000000  25.910000  23.160000  24.090000  22.507448   802900   \n",
      "2020-03-13  25.850000  26.540001  23.010000  25.690001  24.002340  1127800   \n",
      "2020-03-16  21.700001  22.809999  21.450001  21.830000  20.395914   984100   \n",
      "2020-03-17  22.340000  24.610001  21.260000  24.330000  22.731678   840900   \n",
      "2020-03-18  22.820000  23.370001  19.650000  20.340000  19.003798   948800   \n",
      "\n",
      "             SMA_2      SMA_3  RSI  MACD_Line  MACD_Signal  MACD_Histogram  \n",
      "Date                                                                        \n",
      "2020-03-12     NaN        NaN  NaN        NaN          NaN             NaN  \n",
      "2020-03-13  24.890        NaN  NaN        NaN          NaN             NaN  \n",
      "2020-03-16  23.760  23.870000  NaN        NaN          NaN             NaN  \n",
      "2020-03-17  23.080  23.950000  NaN        NaN          NaN             NaN  \n",
      "2020-03-18  22.335  22.166667  NaN        NaN          NaN             NaN  \n",
      "\n"
     ]
    },
    {
     "name": "stderr",
     "output_type": "stream",
     "text": [
      "[*********************100%%**********************]  1 of 1 completed\n"
     ]
    },
    {
     "name": "stdout",
     "output_type": "stream",
     "text": [
      "Stock: ABCD\n",
      "            Open    High   Low  Close  Adj Close  Volume  SMA_2     SMA_3  \\\n",
      "Date                                                                        \n",
      "2011-05-24  2.90  2.9300  2.85   2.90       2.90   67350    NaN       NaN   \n",
      "2011-05-25  2.95  3.1999  2.95   3.16       3.16   51591  3.030       NaN   \n",
      "2011-05-26  3.14  3.2900  3.14   3.26       3.26   60855  3.210  3.106667   \n",
      "2011-05-27  3.29  3.2900  3.21   3.25       3.25   17567  3.255  3.223333   \n",
      "2011-05-31  3.28  3.3700  3.26   3.32       3.32   43142  3.285  3.276667   \n",
      "\n",
      "            RSI  MACD_Line  MACD_Signal  MACD_Histogram  \n",
      "Date                                                     \n",
      "2011-05-24  NaN        NaN          NaN             NaN  \n",
      "2011-05-25  NaN        NaN          NaN             NaN  \n",
      "2011-05-26  NaN        NaN          NaN             NaN  \n",
      "2011-05-27  NaN        NaN          NaN             NaN  \n",
      "2011-05-31  NaN        NaN          NaN             NaN  \n",
      "\n"
     ]
    },
    {
     "name": "stderr",
     "output_type": "stream",
     "text": [
      "[*********************100%%**********************]  1 of 1 completed\n"
     ]
    },
    {
     "name": "stdout",
     "output_type": "stream",
     "text": [
      "Stock: ABCO\n",
      "                Open      High       Low     Close  Adj Close  Volume  \\\n",
      "Date                                                                    \n",
      "2012-06-18  0.936363  0.936363  0.936363  0.936363   0.936363      27   \n",
      "2012-06-19  0.927272  0.927272  0.909090  0.927272   0.927272     904   \n",
      "2012-06-20  0.918181  0.927272  0.918181  0.918181   0.918181    2282   \n",
      "2012-06-21  0.927272  0.927272  0.927272  0.927272   0.927272     440   \n",
      "2012-06-25  0.918181  0.918181  0.918181  0.918181   0.918181    1267   \n",
      "\n",
      "               SMA_2     SMA_3  RSI  MACD_Line  MACD_Signal  MACD_Histogram  \n",
      "Date                                                                         \n",
      "2012-06-18       NaN       NaN  NaN        NaN          NaN             NaN  \n",
      "2012-06-19  0.931818       NaN  NaN        NaN          NaN             NaN  \n",
      "2012-06-20  0.922727  0.927272  NaN        NaN          NaN             NaN  \n",
      "2012-06-21  0.922727  0.924242  NaN        NaN          NaN             NaN  \n",
      "2012-06-25  0.922727  0.921211  NaN        NaN          NaN             NaN  \n",
      "\n"
     ]
    },
    {
     "name": "stderr",
     "output_type": "stream",
     "text": [
      "[*********************100%%**********************]  1 of 1 completed\n"
     ]
    },
    {
     "name": "stdout",
     "output_type": "stream",
     "text": [
      "Stock: ABEV\n",
      "            Open  High   Low  Close  Adj Close    Volume  SMA_2     SMA_3  \\\n",
      "Date                                                                        \n",
      "2014-01-07  7.28  7.34  7.20   7.25   4.937700  19490500    NaN       NaN   \n",
      "2014-01-08  7.24  7.32  7.21   7.25   4.937700   7226100  7.250       NaN   \n",
      "2014-01-09  7.22  7.23  7.06   7.08   4.821918  16323000  7.165  7.193333   \n",
      "2014-01-10  7.11  7.32  7.09   7.30   4.971754  13637500  7.190  7.210000   \n",
      "2014-01-13  7.29  7.32  7.21   7.24   4.930889  10418300  7.270  7.206667   \n",
      "\n",
      "            RSI  MACD_Line  MACD_Signal  MACD_Histogram  \n",
      "Date                                                     \n",
      "2014-01-07  NaN        NaN          NaN             NaN  \n",
      "2014-01-08  NaN        NaN          NaN             NaN  \n",
      "2014-01-09  NaN        NaN          NaN             NaN  \n",
      "2014-01-10  NaN        NaN          NaN             NaN  \n",
      "2014-01-13  NaN        NaN          NaN             NaN  \n",
      "\n"
     ]
    },
    {
     "name": "stderr",
     "output_type": "stream",
     "text": [
      "[*********************100%%**********************]  1 of 1 completed\n"
     ]
    },
    {
     "name": "stdout",
     "output_type": "stream",
     "text": [
      "Stock: ABG\n",
      "             Open   High    Low  Close  Adj Close  Volume   SMA_2      SMA_3  \\\n",
      "Date                                                                           \n",
      "2010-09-01  12.18  12.92  12.06  12.91      12.91  135800     NaN        NaN   \n",
      "2010-09-02  12.88  13.27  12.86  13.13      13.13  129500  13.020        NaN   \n",
      "2010-09-03  13.38  13.60  13.24  13.60      13.60  147200  13.365  13.213333   \n",
      "2010-09-07  13.54  13.56  13.02  13.08      13.08  140500  13.340  13.270000   \n",
      "2010-09-08  13.17  13.30  12.88  13.04      13.04   69500  13.060  13.240000   \n",
      "\n",
      "            RSI  MACD_Line  MACD_Signal  MACD_Histogram  \n",
      "Date                                                     \n",
      "2010-09-01  NaN        NaN          NaN             NaN  \n",
      "2010-09-02  NaN        NaN          NaN             NaN  \n",
      "2010-09-03  NaN        NaN          NaN             NaN  \n",
      "2010-09-07  NaN        NaN          NaN             NaN  \n",
      "2010-09-08  NaN        NaN          NaN             NaN  \n",
      "\n"
     ]
    },
    {
     "name": "stderr",
     "output_type": "stream",
     "text": [
      "[*********************100%%**********************]  1 of 1 completed\n"
     ]
    },
    {
     "name": "stdout",
     "output_type": "stream",
     "text": [
      "Stock: ABIO\n",
      "            Open  High   Low  Close  Adj Close  Volume  SMA_2     SMA_3  RSI  \\\n",
      "Date                                                                           \n",
      "2019-05-20  9.13  9.38  8.21   8.27       8.27  141600    NaN       NaN  NaN   \n",
      "2019-05-21  8.24  8.34  7.70   7.95       7.95  129800   8.11       NaN  NaN   \n",
      "2019-05-22  7.83  7.95  7.17   7.17       7.17   90600   7.56  7.796667  NaN   \n",
      "2019-05-23  7.07  7.32  6.78   7.01       7.01   99000   7.09  7.376667  NaN   \n",
      "2019-05-24  6.98  7.15  6.78   6.97       6.97   65200   6.99  7.050000  NaN   \n",
      "\n",
      "            MACD_Line  MACD_Signal  MACD_Histogram  \n",
      "Date                                                \n",
      "2019-05-20        NaN          NaN             NaN  \n",
      "2019-05-21        NaN          NaN             NaN  \n",
      "2019-05-22        NaN          NaN             NaN  \n",
      "2019-05-23        NaN          NaN             NaN  \n",
      "2019-05-24        NaN          NaN             NaN  \n",
      "\n"
     ]
    },
    {
     "name": "stderr",
     "output_type": "stream",
     "text": [
      "[*********************100%%**********************]  1 of 1 completed\n"
     ]
    },
    {
     "name": "stdout",
     "output_type": "stream",
     "text": [
      "Stock: ABM\n",
      "                 Open       High        Low      Close  Adj Close   Volume  \\\n",
      "Date                                                                         \n",
      "2017-09-07  40.680000  40.869999  37.119999  40.040001  35.022137  1119900   \n",
      "2017-09-08  39.340000  40.490002  39.200001  40.209999  35.170834   500900   \n",
      "2017-09-11  41.750000  41.750000  40.009998  40.970001  35.835587   553300   \n",
      "2017-09-12  41.029999  41.180000  40.340000  40.529999  35.450726   448500   \n",
      "2017-09-13  40.230000  40.400002  39.750000  40.009998  34.995895   390300   \n",
      "\n",
      "                SMA_2      SMA_3  RSI  MACD_Line  MACD_Signal  MACD_Histogram  \n",
      "Date                                                                           \n",
      "2017-09-07        NaN        NaN  NaN        NaN          NaN             NaN  \n",
      "2017-09-08  40.125000        NaN  NaN        NaN          NaN             NaN  \n",
      "2017-09-11  40.590000  40.406667  NaN        NaN          NaN             NaN  \n",
      "2017-09-12  40.750000  40.570000  NaN        NaN          NaN             NaN  \n",
      "2017-09-13  40.269999  40.503333  NaN        NaN          NaN             NaN  \n",
      "\n"
     ]
    },
    {
     "name": "stderr",
     "output_type": "stream",
     "text": [
      "[*********************100%%**********************]  1 of 1 completed\n"
     ]
    },
    {
     "name": "stdout",
     "output_type": "stream",
     "text": [
      "Stock: ABMD\n",
      "                  Open        High         Low       Close   Adj Close  \\\n",
      "Date                                                                     \n",
      "2019-10-02  168.630005  169.070007  163.220001  163.389999  163.389999   \n",
      "2019-10-03  162.899994  167.039993  159.399994  167.029999  167.029999   \n",
      "2019-10-04  168.570007  170.980499  167.979996  169.250000  169.250000   \n",
      "2019-10-07  167.020004  169.664993  164.304993  164.429993  164.429993   \n",
      "2019-10-08  163.500000  164.375000  158.449997  159.490005  159.490005   \n",
      "\n",
      "            Volume       SMA_2       SMA_3  RSI  MACD_Line  MACD_Signal  \\\n",
      "Date                                                                      \n",
      "2019-10-02  684929         NaN         NaN  NaN        NaN          NaN   \n",
      "2019-10-03  761276  165.209999         NaN  NaN        NaN          NaN   \n",
      "2019-10-04  473266  168.139999  166.556666  NaN        NaN          NaN   \n",
      "2019-10-07  524905  166.839996  166.903330  NaN        NaN          NaN   \n",
      "2019-10-08  811785  161.959999  164.389999  NaN        NaN          NaN   \n",
      "\n",
      "            MACD_Histogram  \n",
      "Date                        \n",
      "2019-10-02             NaN  \n",
      "2019-10-03             NaN  \n",
      "2019-10-04             NaN  \n",
      "2019-10-07             NaN  \n",
      "2019-10-08             NaN  \n",
      "\n"
     ]
    },
    {
     "name": "stderr",
     "output_type": "stream",
     "text": [
      "[*********************100%%**********************]  1 of 1 completed\n"
     ]
    },
    {
     "name": "stdout",
     "output_type": "stream",
     "text": [
      "Stock: ABR\n",
      "            Open  High   Low  Close  Adj Close  Volume  SMA_2     SMA_3  RSI  \\\n",
      "Date                                                                           \n",
      "2009-10-23  2.49  2.50  2.35   2.44   0.834657  126000    NaN       NaN  NaN   \n",
      "2009-10-26  2.41  2.43  2.25   2.28   0.779925  193900   2.36       NaN  NaN   \n",
      "2009-10-27  2.26  2.33  1.92   2.02   0.690986  209400   2.15  2.246667  NaN   \n",
      "2009-10-28  2.00  2.12  1.82   1.84   0.629413  167600   1.93  2.046667  NaN   \n",
      "2009-10-29  1.82  2.17  1.82   2.12   0.725194  204600   1.98  1.993333  NaN   \n",
      "\n",
      "            MACD_Line  MACD_Signal  MACD_Histogram  \n",
      "Date                                                \n",
      "2009-10-23        NaN          NaN             NaN  \n",
      "2009-10-26        NaN          NaN             NaN  \n",
      "2009-10-27        NaN          NaN             NaN  \n",
      "2009-10-28        NaN          NaN             NaN  \n",
      "2009-10-29        NaN          NaN             NaN  \n",
      "\n"
     ]
    },
    {
     "name": "stderr",
     "output_type": "stream",
     "text": [
      "[*********************100%%**********************]  1 of 1 completed\n"
     ]
    },
    {
     "name": "stdout",
     "output_type": "stream",
     "text": [
      "Stock: ACAD\n",
      "            Open  High   Low  Close  Adj Close    Volume  SMA_2     SMA_3  \\\n",
      "Date                                                                        \n",
      "2009-07-27  4.14  5.24  4.10   4.40       4.40  13080000    NaN       NaN   \n",
      "2009-07-28  4.59  4.63  3.97   4.38       4.38   3389700  4.390       NaN   \n",
      "2009-07-29  4.24  4.84  4.20   4.39       4.39   2744200  4.385  4.390000   \n",
      "2009-07-30  4.53  4.70  4.26   4.50       4.50   1820900  4.445  4.423333   \n",
      "2009-07-31  4.51  4.51  3.83   4.07       4.07   1475600  4.285  4.320000   \n",
      "\n",
      "            RSI  MACD_Line  MACD_Signal  MACD_Histogram  \n",
      "Date                                                     \n",
      "2009-07-27  NaN        NaN          NaN             NaN  \n",
      "2009-07-28  NaN        NaN          NaN             NaN  \n",
      "2009-07-29  NaN        NaN          NaN             NaN  \n",
      "2009-07-30  NaN        NaN          NaN             NaN  \n",
      "2009-07-31  NaN        NaN          NaN             NaN  \n",
      "\n"
     ]
    },
    {
     "name": "stderr",
     "output_type": "stream",
     "text": [
      "[*********************100%%**********************]  1 of 1 completed\n"
     ]
    },
    {
     "name": "stdout",
     "output_type": "stream",
     "text": [
      "Stock: ACCO\n",
      "             Open   High    Low  Close  Adj Close   Volume   SMA_2      SMA_3  \\\n",
      "Date                                                                            \n",
      "2012-04-13  11.75  11.77  11.44  11.53   9.082719   786200     NaN        NaN   \n",
      "2012-04-16  11.60  11.98  11.42  11.78   9.279654   725500  11.655        NaN   \n",
      "2012-04-17  11.61  11.72  11.38  11.38   8.964557  1815100  11.580  11.563333   \n",
      "2012-04-18  11.33  11.48  10.97  11.32   8.917293  1551400  11.350  11.493333   \n",
      "2012-04-19  11.30  11.36  10.76  10.99   8.657337  2229500  11.155  11.230000   \n",
      "\n",
      "            RSI  MACD_Line  MACD_Signal  MACD_Histogram  \n",
      "Date                                                     \n",
      "2012-04-13  NaN        NaN          NaN             NaN  \n",
      "2012-04-16  NaN        NaN          NaN             NaN  \n",
      "2012-04-17  NaN        NaN          NaN             NaN  \n",
      "2012-04-18  NaN        NaN          NaN             NaN  \n",
      "2012-04-19  NaN        NaN          NaN             NaN  \n",
      "\n"
     ]
    },
    {
     "name": "stderr",
     "output_type": "stream",
     "text": [
      "[*********************100%%**********************]  1 of 1 completed\n"
     ]
    },
    {
     "name": "stdout",
     "output_type": "stream",
     "text": [
      "Stock: ACET\n",
      "                  Open        High         Low       Close   Adj Close  \\\n",
      "Date                                                                     \n",
      "2018-01-26  130.339996  143.500000  113.470001  118.160004  118.160004   \n",
      "2018-01-29  120.470001  120.470001  110.809998  113.610001  113.610001   \n",
      "2018-01-30  113.959999  115.787003  106.959999  110.180000  110.180000   \n",
      "2018-01-31  109.970001  115.919998  109.059998  113.540001  113.540001   \n",
      "2018-02-01  113.540001  121.806999  112.161003  117.250000  117.250000   \n",
      "\n",
      "            Volume       SMA_2       SMA_3  RSI  MACD_Line  MACD_Signal  \\\n",
      "Date                                                                      \n",
      "2018-01-26  339571         NaN         NaN  NaN        NaN          NaN   \n",
      "2018-01-29   41343  115.885002         NaN  NaN        NaN          NaN   \n",
      "2018-01-30   21786  111.895000  113.983335  NaN        NaN          NaN   \n",
      "2018-01-31   25786  111.860001  112.443334  NaN        NaN          NaN   \n",
      "2018-02-01   11814  115.395000  113.656667  NaN        NaN          NaN   \n",
      "\n",
      "            MACD_Histogram  \n",
      "Date                        \n",
      "2018-01-26             NaN  \n",
      "2018-01-29             NaN  \n",
      "2018-01-30             NaN  \n",
      "2018-01-31             NaN  \n",
      "2018-02-01             NaN  \n",
      "\n"
     ]
    },
    {
     "name": "stderr",
     "output_type": "stream",
     "text": [
      "[*********************100%%**********************]  1 of 1 completed\n"
     ]
    },
    {
     "name": "stdout",
     "output_type": "stream",
     "text": [
      "Stock: ACFC\n",
      "                 Open       High        Low      Close  Adj Close  Volume  \\\n",
      "Date                                                                        \n",
      "2010-04-06  19.897959  20.306122  17.295918  20.306122  20.306122    5146   \n",
      "2010-04-07  20.408163  20.663265  19.643368  20.596428  20.596428   13980   \n",
      "2010-04-08  20.918367  20.918367  20.408163  20.918367  20.918367    1365   \n",
      "2010-04-09  21.683674  21.683674  20.969387  21.428572  21.428572    6133   \n",
      "2010-04-12  20.306122  21.326530  19.897959  21.326530  21.326530    3390   \n",
      "\n",
      "                SMA_2      SMA_3  RSI  MACD_Line  MACD_Signal  MACD_Histogram  \n",
      "Date                                                                           \n",
      "2010-04-06        NaN        NaN  NaN        NaN          NaN             NaN  \n",
      "2010-04-07  20.451275        NaN  NaN        NaN          NaN             NaN  \n",
      "2010-04-08  20.757398  20.606972  NaN        NaN          NaN             NaN  \n",
      "2010-04-09  21.173470  20.981122  NaN        NaN          NaN             NaN  \n",
      "2010-04-12  21.377551  21.224490  NaN        NaN          NaN             NaN  \n",
      "\n"
     ]
    },
    {
     "name": "stderr",
     "output_type": "stream",
     "text": [
      "[*********************100%%**********************]  1 of 1 completed\n"
     ]
    },
    {
     "name": "stdout",
     "output_type": "stream",
     "text": [
      "Stock: ACFN\n",
      "            Open  High   Low  Close  Adj Close  Volume  SMA_2     SMA_3  RSI  \\\n",
      "Date                                                                           \n",
      "2009-11-09  8.10  8.33  7.73   8.06   4.446566  117400    NaN       NaN  NaN   \n",
      "2009-11-10  8.00  8.20  7.63   7.65   4.220375   87300  7.855       NaN  NaN   \n",
      "2009-11-11  7.80  8.10  7.76   7.77   4.286577  102200  7.710  7.826667  NaN   \n",
      "2009-11-12  7.87  8.04  7.58   7.89   4.352779  116800  7.830  7.770000  NaN   \n",
      "2009-11-13  7.99  8.05  6.86   7.25   3.999702  330300  7.570  7.636667  NaN   \n",
      "\n",
      "            MACD_Line  MACD_Signal  MACD_Histogram  \n",
      "Date                                                \n",
      "2009-11-09        NaN          NaN             NaN  \n",
      "2009-11-10        NaN          NaN             NaN  \n",
      "2009-11-11        NaN          NaN             NaN  \n",
      "2009-11-12        NaN          NaN             NaN  \n",
      "2009-11-13        NaN          NaN             NaN  \n",
      "\n"
     ]
    },
    {
     "name": "stderr",
     "output_type": "stream",
     "text": [
      "[*********************100%%**********************]  1 of 1 completed\n"
     ]
    },
    {
     "name": "stdout",
     "output_type": "stream",
     "text": [
      "Stock: ACGL\n",
      "                Open      High       Low     Close  Adj Close   Volume  \\\n",
      "Date                                                                     \n",
      "2009-11-06  7.491111  7.652222  7.491111  7.645556   7.645556  3996000   \n",
      "2009-11-09  7.637778  7.747778  7.603333  7.747778   7.747778  3357000   \n",
      "2009-11-10  7.704444  7.766667  7.704444  7.721111   7.721111  2358000   \n",
      "2009-11-11  7.773333  7.815556  7.723333  7.800000   7.800000  3471300   \n",
      "2009-11-12  7.807778  7.813333  7.751111  7.768889   7.768889  6414300   \n",
      "\n",
      "               SMA_2     SMA_3  RSI  MACD_Line  MACD_Signal  MACD_Histogram  \n",
      "Date                                                                         \n",
      "2009-11-06       NaN       NaN  NaN        NaN          NaN             NaN  \n",
      "2009-11-09  7.696667       NaN  NaN        NaN          NaN             NaN  \n",
      "2009-11-10  7.734444  7.704815  NaN        NaN          NaN             NaN  \n",
      "2009-11-11  7.760556  7.756296  NaN        NaN          NaN             NaN  \n",
      "2009-11-12  7.784445  7.763333  NaN        NaN          NaN             NaN  \n",
      "\n"
     ]
    },
    {
     "name": "stderr",
     "output_type": "stream",
     "text": [
      "[*********************100%%**********************]  1 of 1 completed\n"
     ]
    },
    {
     "name": "stdout",
     "output_type": "stream",
     "text": [
      "Stock: ACHC\n",
      "            Open  High   Low  Close  Adj Close  Volume  SMA_2     SMA_3  RSI  \\\n",
      "Date                                                                           \n",
      "2011-12-05  7.90  8.00  7.20   7.89       7.89   55500    NaN       NaN  NaN   \n",
      "2011-12-06  7.80  8.74  5.43   8.02       8.02   43700  7.955       NaN  NaN   \n",
      "2011-12-07  8.00  8.47  7.98   8.47       8.47   16600  8.245  8.126667  NaN   \n",
      "2011-12-08  8.48  8.48  8.00   8.25       8.25   24800  8.360  8.246667  NaN   \n",
      "2011-12-09  8.07  8.07  7.82   8.00       8.00   15900  8.125  8.240000  NaN   \n",
      "\n",
      "            MACD_Line  MACD_Signal  MACD_Histogram  \n",
      "Date                                                \n",
      "2011-12-05        NaN          NaN             NaN  \n",
      "2011-12-06        NaN          NaN             NaN  \n",
      "2011-12-07        NaN          NaN             NaN  \n",
      "2011-12-08        NaN          NaN             NaN  \n",
      "2011-12-09        NaN          NaN             NaN  \n",
      "\n"
     ]
    },
    {
     "name": "stderr",
     "output_type": "stream",
     "text": [
      "[*********************100%%**********************]  1 of 1 completed\n"
     ]
    },
    {
     "name": "stdout",
     "output_type": "stream",
     "text": [
      "Stock: ACIW\n",
      "                Open      High       Low     Close  Adj Close   Volume  \\\n",
      "Date                                                                     \n",
      "2009-09-14  4.736667  4.990000  4.666667  4.950000   4.950000   626700   \n",
      "2009-09-15  4.933333  5.216667  4.873333  5.140000   5.140000   777600   \n",
      "2009-09-16  5.123333  5.210000  5.083333  5.170000   5.170000   302100   \n",
      "2009-09-17  5.146667  5.243333  5.106667  5.186667   5.186667   312000   \n",
      "2009-09-18  5.190000  5.316667  5.106667  5.283333   5.283333  1052400   \n",
      "\n",
      "               SMA_2     SMA_3  RSI  MACD_Line  MACD_Signal  MACD_Histogram  \n",
      "Date                                                                         \n",
      "2009-09-14       NaN       NaN  NaN        NaN          NaN             NaN  \n",
      "2009-09-15  5.045000       NaN  NaN        NaN          NaN             NaN  \n",
      "2009-09-16  5.155000  5.086667  NaN        NaN          NaN             NaN  \n",
      "2009-09-17  5.178334  5.165556  NaN        NaN          NaN             NaN  \n",
      "2009-09-18  5.235000  5.213333  NaN        NaN          NaN             NaN  \n",
      "\n"
     ]
    },
    {
     "name": "stderr",
     "output_type": "stream",
     "text": [
      "[*********************100%%**********************]  1 of 1 completed\n"
     ]
    },
    {
     "name": "stdout",
     "output_type": "stream",
     "text": [
      "Stock: ACLS\n",
      "            Open  High   Low  Close  Adj Close  Volume  SMA_2     SMA_3  RSI  \\\n",
      "Date                                                                           \n",
      "2009-10-13  5.72  6.76  5.68   6.52       6.52  979325    NaN       NaN  NaN   \n",
      "2009-10-14  7.00  7.12  6.08   6.36       6.36  732500   6.44       NaN  NaN   \n",
      "2009-10-15  6.64  6.64  5.60   6.24       6.24  576725   6.30  6.373333  NaN   \n",
      "2009-10-16  6.12  6.16  5.68   5.92       5.92  331825   6.08  6.173333  NaN   \n",
      "2009-10-19  5.88  5.88  5.24   5.32       5.32  481525   5.62  5.826667  NaN   \n",
      "\n",
      "            MACD_Line  MACD_Signal  MACD_Histogram  \n",
      "Date                                                \n",
      "2009-10-13        NaN          NaN             NaN  \n",
      "2009-10-14        NaN          NaN             NaN  \n",
      "2009-10-15        NaN          NaN             NaN  \n",
      "2009-10-16        NaN          NaN             NaN  \n",
      "2009-10-19        NaN          NaN             NaN  \n",
      "\n"
     ]
    },
    {
     "name": "stderr",
     "output_type": "stream",
     "text": [
      "[*********************100%%**********************]  1 of 1 completed\n"
     ]
    },
    {
     "name": "stdout",
     "output_type": "stream",
     "text": [
      "Stock: ACM\n",
      "                 Open       High        Low      Close  Adj Close   Volume  \\\n",
      "Date                                                                         \n",
      "2009-08-07  29.750000  31.590000  28.850000  31.400000  30.724421  1849400   \n",
      "2009-08-10  31.139999  31.150000  30.230000  30.459999  29.804646  1072000   \n",
      "2009-08-11  30.290001  30.549999  29.780001  30.290001  29.638306   529000   \n",
      "2009-08-12  29.940001  30.680000  29.610001  30.049999  29.403465   509300   \n",
      "2009-08-13  30.020000  30.049999  29.110001  29.570000  28.933796   931800   \n",
      "\n",
      "                SMA_2      SMA_3  RSI  MACD_Line  MACD_Signal  MACD_Histogram  \n",
      "Date                                                                           \n",
      "2009-08-07        NaN        NaN  NaN        NaN          NaN             NaN  \n",
      "2009-08-10  30.929999        NaN  NaN        NaN          NaN             NaN  \n",
      "2009-08-11  30.375000  30.716667  NaN        NaN          NaN             NaN  \n",
      "2009-08-12  30.170000  30.266666  NaN        NaN          NaN             NaN  \n",
      "2009-08-13  29.809999  29.970000  NaN        NaN          NaN             NaN  \n",
      "\n"
     ]
    },
    {
     "name": "stderr",
     "output_type": "stream",
     "text": [
      "[*********************100%%**********************]  1 of 1 completed\n"
     ]
    },
    {
     "name": "stdout",
     "output_type": "stream",
     "text": [
      "Stock: ACN\n",
      "                 Open       High        Low      Close  Adj Close    Volume  \\\n",
      "Date                                                                          \n",
      "2009-10-01  37.040001  37.500000  36.389999  36.529999  27.438393   6463200   \n",
      "2009-10-02  37.110001  38.240002  36.900002  37.500000  28.166981  11315600   \n",
      "2009-10-05  37.689999  38.240002  37.400002  37.990002  28.535023   6793200   \n",
      "2009-10-06  37.709999  38.439999  37.700001  38.330002  28.790398   6850300   \n",
      "2009-10-07  38.070000  38.590000  38.009998  38.410000  28.850500   4686400   \n",
      "\n",
      "                SMA_2      SMA_3  RSI  MACD_Line  MACD_Signal  MACD_Histogram  \n",
      "Date                                                                           \n",
      "2009-10-01        NaN        NaN  NaN        NaN          NaN             NaN  \n",
      "2009-10-02  37.014999        NaN  NaN        NaN          NaN             NaN  \n",
      "2009-10-05  37.745001  37.340000  NaN        NaN          NaN             NaN  \n",
      "2009-10-06  38.160002  37.940001  NaN        NaN          NaN             NaN  \n",
      "2009-10-07  38.370001  38.243334  NaN        NaN          NaN             NaN  \n",
      "\n"
     ]
    },
    {
     "name": "stderr",
     "output_type": "stream",
     "text": [
      "[*********************100%%**********************]  1 of 1 completed\n"
     ]
    },
    {
     "name": "stdout",
     "output_type": "stream",
     "text": [
      "Stock: ACNB\n",
      "                 Open       High        Low      Close  Adj Close  Volume  \\\n",
      "Date                                                                        \n",
      "2013-05-09  16.930000  16.950001  16.500000  16.530001  11.398339    2700   \n",
      "2013-05-10  16.500000  16.530001  16.500000  16.520000  11.391441     800   \n",
      "2013-05-13  16.940001  16.940001  16.940001  16.940001  11.681057     300   \n",
      "2013-05-14  16.709999  16.820000  16.700001  16.799999  11.584515    2800   \n",
      "2013-05-15  16.730000  16.780001  16.500000  16.520000  11.391441    1600   \n",
      "\n",
      "                SMA_2      SMA_3  RSI  MACD_Line  MACD_Signal  MACD_Histogram  \n",
      "Date                                                                           \n",
      "2013-05-09        NaN        NaN  NaN        NaN          NaN             NaN  \n",
      "2013-05-10  16.525001        NaN  NaN        NaN          NaN             NaN  \n",
      "2013-05-13  16.730000  16.663334  NaN        NaN          NaN             NaN  \n",
      "2013-05-14  16.870000  16.753333  NaN        NaN          NaN             NaN  \n",
      "2013-05-15  16.660000  16.753333  NaN        NaN          NaN             NaN  \n",
      "\n"
     ]
    },
    {
     "name": "stderr",
     "output_type": "stream",
     "text": [
      "[*********************100%%**********************]  1 of 1 completed\n"
     ]
    },
    {
     "name": "stdout",
     "output_type": "stream",
     "text": [
      "Stock: ACOR\n",
      "                   Open         High          Low        Close    Adj Close  \\\n",
      "Date                                                                          \n",
      "2009-10-09  2421.595215  2458.795166  1930.796143  2102.395752  2102.395752   \n",
      "2009-10-12  2141.995605  2229.595459  2047.195923  2067.595947  2067.595947   \n",
      "2009-10-13  2068.795898  2069.995850  1862.396240  2008.796021  2008.796021   \n",
      "2009-10-14  2008.796021  2008.796021  2008.796021  2008.796021  2008.796021   \n",
      "2009-10-15  3013.194092  3119.993652  2911.194092  2957.994141  2957.994141   \n",
      "\n",
      "            Volume        SMA_2        SMA_3  RSI  MACD_Line  MACD_Signal  \\\n",
      "Date                                                                        \n",
      "2009-10-09  121321          NaN          NaN  NaN        NaN          NaN   \n",
      "2009-10-12   42996  2084.995850          NaN  NaN        NaN          NaN   \n",
      "2009-10-13   40206  2038.195984  2059.595907  NaN        NaN          NaN   \n",
      "2009-10-14       0  2008.796021  2028.395996  NaN        NaN          NaN   \n",
      "2009-10-15  109661  2483.395081  2325.195394  NaN        NaN          NaN   \n",
      "\n",
      "            MACD_Histogram  \n",
      "Date                        \n",
      "2009-10-09             NaN  \n",
      "2009-10-12             NaN  \n",
      "2009-10-13             NaN  \n",
      "2009-10-14             NaN  \n",
      "2009-10-15             NaN  \n",
      "\n"
     ]
    },
    {
     "name": "stderr",
     "output_type": "stream",
     "text": [
      "[*********************100%%**********************]  1 of 1 completed\n"
     ]
    },
    {
     "name": "stdout",
     "output_type": "stream",
     "text": [
      "Stock: ACP\n",
      "                 Open       High        Low      Close  Adj Close  Volume  \\\n",
      "Date                                                                        \n",
      "2011-01-27  18.590302  18.636778  18.553122  18.590302   3.963947  360941   \n",
      "2011-01-28  18.618189  18.766911  18.618189  18.683254   3.983767   16891   \n",
      "2011-01-31  18.766911  18.897041  18.766911  18.776205   4.003585    7961   \n",
      "2011-02-01  18.776205  18.776205  18.599598  18.683254   3.983767   10973   \n",
      "2011-02-02  18.636778  18.655369  18.590302  18.636778   3.973855   13018   \n",
      "\n",
      "                SMA_2      SMA_3  RSI  MACD_Line  MACD_Signal  MACD_Histogram  \n",
      "Date                                                                           \n",
      "2011-01-27        NaN        NaN  NaN        NaN          NaN             NaN  \n",
      "2011-01-28  18.636778        NaN  NaN        NaN          NaN             NaN  \n",
      "2011-01-31  18.729730  18.683254  NaN        NaN          NaN             NaN  \n",
      "2011-02-01  18.729730  18.714238  NaN        NaN          NaN             NaN  \n",
      "2011-02-02  18.660016  18.698746  NaN        NaN          NaN             NaN  \n",
      "\n"
     ]
    },
    {
     "name": "stderr",
     "output_type": "stream",
     "text": [
      "[*********************100%%**********************]  1 of 1 completed\n"
     ]
    },
    {
     "name": "stdout",
     "output_type": "stream",
     "text": [
      "Stock: ACRE\n",
      "                 Open       High        Low  Close  Adj Close  Volume   SMA_2  \\\n",
      "Date                                                                            \n",
      "2012-04-27  18.000000  18.030001  17.799999  17.82   5.921300  558900     NaN   \n",
      "2012-04-30  17.799999  18.049999  17.760000  17.98   5.974465  123800  17.900   \n",
      "2012-05-01  17.980000  18.059999  17.950001  18.00   5.981112   91100  17.990   \n",
      "2012-05-02  18.000000  18.070000  17.809999  17.84   5.927948  139700  17.920   \n",
      "2012-05-03  17.930000  17.990000  17.600000  17.75   5.898041  169000  17.795   \n",
      "\n",
      "                SMA_3  RSI  MACD_Line  MACD_Signal  MACD_Histogram  \n",
      "Date                                                                \n",
      "2012-04-27        NaN  NaN        NaN          NaN             NaN  \n",
      "2012-04-30        NaN  NaN        NaN          NaN             NaN  \n",
      "2012-05-01  17.933333  NaN        NaN          NaN             NaN  \n",
      "2012-05-02  17.940000  NaN        NaN          NaN             NaN  \n",
      "2012-05-03  17.863333  NaN        NaN          NaN             NaN  \n",
      "\n"
     ]
    },
    {
     "name": "stderr",
     "output_type": "stream",
     "text": [
      "[*********************100%%**********************]  1 of 1 completed\n"
     ]
    },
    {
     "name": "stdout",
     "output_type": "stream",
     "text": [
      "Stock: ACST\n",
      "                   Open         High          Low        Close    Adj Close  \\\n",
      "Date                                                                          \n",
      "2013-10-02  1224.000000  1224.000000  1108.800049  1195.199951  1195.199951   \n",
      "2013-10-03  1161.599976  1224.000000  1147.199951  1147.199951  1147.199951   \n",
      "2013-10-04  1171.199951  1171.199951  1152.000000  1152.000000  1152.000000   \n",
      "2013-10-07  1166.400024  1166.400024  1137.599976  1142.400024  1142.400024   \n",
      "2013-10-08  1152.000000  1152.000000  1080.000000  1089.599976  1089.599976   \n",
      "\n",
      "            Volume        SMA_2        SMA_3  RSI  MACD_Line  MACD_Signal  \\\n",
      "Date                                                                        \n",
      "2013-10-02     111          NaN          NaN  NaN        NaN          NaN   \n",
      "2013-10-03      51  1171.199951          NaN  NaN        NaN          NaN   \n",
      "2013-10-04      21  1149.599976  1164.799967  NaN        NaN          NaN   \n",
      "2013-10-07      38  1147.200012  1147.199992  NaN        NaN          NaN   \n",
      "2013-10-08      90  1116.000000  1128.000000  NaN        NaN          NaN   \n",
      "\n",
      "            MACD_Histogram  \n",
      "Date                        \n",
      "2013-10-02             NaN  \n",
      "2013-10-03             NaN  \n",
      "2013-10-04             NaN  \n",
      "2013-10-07             NaN  \n",
      "2013-10-08             NaN  \n",
      "\n"
     ]
    },
    {
     "name": "stderr",
     "output_type": "stream",
     "text": [
      "[*********************100%%**********************]  1 of 1 completed\n"
     ]
    },
    {
     "name": "stdout",
     "output_type": "stream",
     "text": [
      "Stock: ACTA\n",
      "                 Open       High        Low      Close  Adj Close  Volume  \\\n",
      "Date                                                                        \n",
      "2014-09-15  16.240000  17.400000  16.010000  17.250000  17.250000  128434   \n",
      "2014-09-16  17.389999  18.080000  17.110001  17.139999  17.139999  114542   \n",
      "2014-09-17  17.500000  17.500000  17.030001  17.219999  17.219999   86990   \n",
      "2014-09-18  17.879999  17.879999  17.270000  17.480000  17.480000   66529   \n",
      "2014-09-19  16.530001  17.540001  15.620000  15.990000  15.990000  473922   \n",
      "\n",
      "                SMA_2      SMA_3  RSI  MACD_Line  MACD_Signal  MACD_Histogram  \n",
      "Date                                                                           \n",
      "2014-09-15        NaN        NaN  NaN        NaN          NaN             NaN  \n",
      "2014-09-16  17.195000        NaN  NaN        NaN          NaN             NaN  \n",
      "2014-09-17  17.179999  17.203333  NaN        NaN          NaN             NaN  \n",
      "2014-09-18  17.349999  17.279999  NaN        NaN          NaN             NaN  \n",
      "2014-09-19  16.735000  16.896666  NaN        NaN          NaN             NaN  \n",
      "\n"
     ]
    },
    {
     "name": "stderr",
     "output_type": "stream",
     "text": [
      "[*********************100%%**********************]  1 of 1 completed\n"
     ]
    },
    {
     "name": "stdout",
     "output_type": "stream",
     "text": [
      "Stock: ACTG\n",
      "            Open  High   Low  Close  Adj Close  Volume  SMA_2     SMA_3  RSI  \\\n",
      "Date                                                                           \n",
      "2009-11-09  8.37  8.53  8.26   8.42   7.606596  158600    NaN       NaN  NaN   \n",
      "2009-11-10  8.36  8.51  8.13   8.19   7.398815  179700  8.305       NaN  NaN   \n",
      "2009-11-11  8.25  8.28  8.10   8.15   7.362678   69900  8.170  8.253333  NaN   \n",
      "2009-11-12  8.13  8.23  7.80   7.93   7.163931  214900  8.040  8.090000  NaN   \n",
      "2009-11-13  7.94  8.25  7.77   8.19   7.398815  588000  8.060  8.090000  NaN   \n",
      "\n",
      "            MACD_Line  MACD_Signal  MACD_Histogram  \n",
      "Date                                                \n",
      "2009-11-09        NaN          NaN             NaN  \n",
      "2009-11-10        NaN          NaN             NaN  \n",
      "2009-11-11        NaN          NaN             NaN  \n",
      "2009-11-12        NaN          NaN             NaN  \n",
      "2009-11-13        NaN          NaN             NaN  \n",
      "\n"
     ]
    },
    {
     "name": "stderr",
     "output_type": "stream",
     "text": [
      "[*********************100%%**********************]  1 of 1 completed\n"
     ]
    },
    {
     "name": "stdout",
     "output_type": "stream",
     "text": [
      "Stock: ACU\n",
      "             Open   High    Low  Close  Adj Close  Volume  SMA_2      SMA_3  \\\n",
      "Date                                                                          \n",
      "2010-04-12  13.04  13.04  10.74  11.36   8.443728   20000    NaN        NaN   \n",
      "2010-04-13  11.31  11.40  10.78  10.80   8.027488    7900  11.08        NaN   \n",
      "2010-04-14  10.91  11.16  10.69  11.04   8.205878   17000  10.92  11.066667   \n",
      "2010-04-15  11.17  11.41  10.99  11.36   8.443728    9600  11.20  11.066667   \n",
      "2010-04-16  11.44  11.55  11.15  11.48   8.532923   12000  11.42  11.293333   \n",
      "\n",
      "            RSI  MACD_Line  MACD_Signal  MACD_Histogram  \n",
      "Date                                                     \n",
      "2010-04-12  NaN        NaN          NaN             NaN  \n",
      "2010-04-13  NaN        NaN          NaN             NaN  \n",
      "2010-04-14  NaN        NaN          NaN             NaN  \n",
      "2010-04-15  NaN        NaN          NaN             NaN  \n",
      "2010-04-16  NaN        NaN          NaN             NaN  \n",
      "\n"
     ]
    },
    {
     "name": "stderr",
     "output_type": "stream",
     "text": [
      "[*********************100%%**********************]  1 of 1 completed\n"
     ]
    },
    {
     "name": "stdout",
     "output_type": "stream",
     "text": [
      "Stock: ACUR\n",
      "             Open       High    Low      Close  Adj Close  Volume   SMA_2  \\\n",
      "Date                                                                        \n",
      "2010-02-23  24.40  25.750000  24.25  25.700001  25.700001    4053     NaN   \n",
      "2010-02-24  24.65  26.049999  24.65  25.900000  25.900000    1650  25.800   \n",
      "2010-02-25  25.75  26.299999  25.35  26.150000  26.150000    1778  26.025   \n",
      "2010-02-26  26.15  26.150000  24.40  24.500000  24.500000    1862  25.325   \n",
      "2010-03-01  24.75  25.799999  23.10  24.700001  24.700001    5435  24.600   \n",
      "\n",
      "                SMA_3  RSI  MACD_Line  MACD_Signal  MACD_Histogram  \n",
      "Date                                                                \n",
      "2010-02-23        NaN  NaN        NaN          NaN             NaN  \n",
      "2010-02-24        NaN  NaN        NaN          NaN             NaN  \n",
      "2010-02-25  25.916667  NaN        NaN          NaN             NaN  \n",
      "2010-02-26  25.516666  NaN        NaN          NaN             NaN  \n",
      "2010-03-01  25.116667  NaN        NaN          NaN             NaN  \n",
      "\n"
     ]
    },
    {
     "name": "stderr",
     "output_type": "stream",
     "text": [
      "[*********************100%%**********************]  1 of 1 completed\n"
     ]
    },
    {
     "name": "stdout",
     "output_type": "stream",
     "text": [
      "Stock: ACWI\n",
      "                 Open       High        Low      Close  Adj Close  Volume  \\\n",
      "Date                                                                        \n",
      "2012-07-20  43.910000  43.919998  43.680000  43.700001  34.507133  779900   \n",
      "2012-07-23  42.770000  43.099998  42.590000  43.009998  33.962288  928700   \n",
      "2012-07-24  43.020000  43.040001  42.360001  42.630001  33.662224  120000   \n",
      "2012-07-25  42.820000  42.950001  42.500000  42.709999  33.725395  546600   \n",
      "2012-07-26  43.509998  43.759998  43.400002  43.660000  34.475548  195600   \n",
      "\n",
      "                SMA_2      SMA_3  RSI  MACD_Line  MACD_Signal  MACD_Histogram  \n",
      "Date                                                                           \n",
      "2012-07-20        NaN        NaN  NaN        NaN          NaN             NaN  \n",
      "2012-07-23  43.355000        NaN  NaN        NaN          NaN             NaN  \n",
      "2012-07-24  42.820000  43.113333  NaN        NaN          NaN             NaN  \n",
      "2012-07-25  42.670000  42.783333  NaN        NaN          NaN             NaN  \n",
      "2012-07-26  43.184999  43.000000  NaN        NaN          NaN             NaN  \n",
      "\n"
     ]
    },
    {
     "name": "stderr",
     "output_type": "stream",
     "text": [
      "[*********************100%%**********************]  1 of 1 completed\n"
     ]
    },
    {
     "name": "stdout",
     "output_type": "stream",
     "text": [
      "Stock: ACWV\n",
      "                 Open       High        Low      Close  Adj Close  Volume  \\\n",
      "Date                                                                        \n",
      "2011-10-20  49.990002  52.000000  49.840000  52.000000  39.498871    4700   \n",
      "2011-10-21  50.740002  50.770000  50.689999  50.689999  38.503815    3000   \n",
      "2011-10-24  50.689999  50.689999  50.689999  50.689999  38.503815       0   \n",
      "2011-10-25  50.689999  50.689999  50.689999  50.689999  38.503815       0   \n",
      "2011-10-26  51.220001  51.290001  51.060001  51.060001  38.784859     700   \n",
      "\n",
      "                SMA_2      SMA_3  RSI  MACD_Line  MACD_Signal  MACD_Histogram  \n",
      "Date                                                                           \n",
      "2011-10-20        NaN        NaN  NaN        NaN          NaN             NaN  \n",
      "2011-10-21  51.344999        NaN  NaN        NaN          NaN             NaN  \n",
      "2011-10-24  50.689999  51.126666  NaN        NaN          NaN             NaN  \n",
      "2011-10-25  50.689999  50.689999  NaN        NaN          NaN             NaN  \n",
      "2011-10-26  50.875000  50.813333  NaN        NaN          NaN             NaN  \n",
      "\n"
     ]
    },
    {
     "name": "stderr",
     "output_type": "stream",
     "text": [
      "[*********************100%%**********************]  1 of 1 completed\n"
     ]
    },
    {
     "name": "stdout",
     "output_type": "stream",
     "text": [
      "Stock: ACWX\n",
      "                 Open       High        Low      Close  Adj Close   Volume  \\\n",
      "Date                                                                         \n",
      "2012-08-22  38.599998  38.919998  38.529999  38.869999  28.902369    87700   \n",
      "2012-08-23  38.730000  38.730000  38.419998  38.509998  28.634689  1590700   \n",
      "2012-08-24  38.240002  38.639999  38.200001  38.470001  28.604944    83000   \n",
      "2012-08-27  38.509998  38.599998  38.349998  38.380001  28.538021   906100   \n",
      "2012-08-28  38.349998  38.439999  38.250000  38.320000  28.493412   211800   \n",
      "\n",
      "                SMA_2      SMA_3  RSI  MACD_Line  MACD_Signal  MACD_Histogram  \n",
      "Date                                                                           \n",
      "2012-08-22        NaN        NaN  NaN        NaN          NaN             NaN  \n",
      "2012-08-23  38.689999        NaN  NaN        NaN          NaN             NaN  \n",
      "2012-08-24  38.490000  38.616666  NaN        NaN          NaN             NaN  \n",
      "2012-08-27  38.425001  38.453334  NaN        NaN          NaN             NaN  \n",
      "2012-08-28  38.350000  38.390001  NaN        NaN          NaN             NaN  \n",
      "\n"
     ]
    },
    {
     "name": "stderr",
     "output_type": "stream",
     "text": [
      "[*********************100%%**********************]  1 of 1 completed\n"
     ]
    },
    {
     "name": "stdout",
     "output_type": "stream",
     "text": [
      "Stock: ADBE\n",
      "                 Open       High        Low      Close  Adj Close   Volume  \\\n",
      "Date                                                                         \n",
      "2009-08-17  31.719999  31.900000  31.120001  31.209999  31.209999  5500600   \n",
      "2009-08-18  31.280001  31.920000  31.100000  31.719999  31.719999  4925700   \n",
      "2009-08-19  31.450001  31.879999  31.170000  31.719999  31.719999  5001200   \n",
      "2009-08-20  31.830000  32.189999  31.480000  32.099998  32.099998  4676000   \n",
      "2009-08-21  32.439999  32.930000  32.000000  32.840000  32.840000  5108600   \n",
      "\n",
      "                SMA_2      SMA_3  RSI  MACD_Line  MACD_Signal  MACD_Histogram  \n",
      "Date                                                                           \n",
      "2009-08-17        NaN        NaN  NaN        NaN          NaN             NaN  \n",
      "2009-08-18  31.464999        NaN  NaN        NaN          NaN             NaN  \n",
      "2009-08-19  31.719999  31.549999  NaN        NaN          NaN             NaN  \n",
      "2009-08-20  31.909999  31.846666  NaN        NaN          NaN             NaN  \n",
      "2009-08-21  32.469999  32.219999  NaN        NaN          NaN             NaN  \n",
      "\n"
     ]
    },
    {
     "name": "stderr",
     "output_type": "stream",
     "text": [
      "[*********************100%%**********************]  1 of 1 completed\n"
     ]
    },
    {
     "name": "stdout",
     "output_type": "stream",
     "text": [
      "Stock: ADC\n",
      "                 Open       High    Low      Close  Adj Close  Volume  \\\n",
      "Date                                                                    \n",
      "2009-09-02  20.010000  20.600000  19.66  19.889999   9.191370   28000   \n",
      "2009-09-03  20.080000  20.090000  19.60  19.940001   9.214477   20100   \n",
      "2009-09-04  19.080000  20.200001  19.07  20.040001   9.260687   30200   \n",
      "2009-09-08  20.340000  21.040001  20.23  20.820000   9.621129   28100   \n",
      "2009-09-09  20.940001  21.170000  20.51  20.940001   9.676586   33400   \n",
      "\n",
      "                SMA_2      SMA_3  RSI  MACD_Line  MACD_Signal  MACD_Histogram  \n",
      "Date                                                                           \n",
      "2009-09-02        NaN        NaN  NaN        NaN          NaN             NaN  \n",
      "2009-09-03  19.915000        NaN  NaN        NaN          NaN             NaN  \n",
      "2009-09-04  19.990001  19.956667  NaN        NaN          NaN             NaN  \n",
      "2009-09-08  20.430000  20.266667  NaN        NaN          NaN             NaN  \n",
      "2009-09-09  20.880000  20.600000  NaN        NaN          NaN             NaN  \n",
      "\n"
     ]
    },
    {
     "name": "stderr",
     "output_type": "stream",
     "text": [
      "[*********************100%%**********************]  1 of 1 completed\n"
     ]
    },
    {
     "name": "stdout",
     "output_type": "stream",
     "text": [
      "Stock: ADI\n",
      "                 Open       High        Low      Close  Adj Close   Volume  \\\n",
      "Date                                                                         \n",
      "2009-08-12  27.150000  27.549999  27.070000  27.200001  19.086803  3295300   \n",
      "2009-08-13  27.969999  28.000000  27.320000  27.809999  19.514843  4374100   \n",
      "2009-08-14  27.680000  27.700001  27.020000  27.389999  19.220127  4344000   \n",
      "2009-08-17  27.110001  27.150000  26.559999  26.760000  18.778046  4428500   \n",
      "2009-08-18  26.820000  27.299999  26.760000  27.219999  19.100840  4816200   \n",
      "\n",
      "                SMA_2      SMA_3  RSI  MACD_Line  MACD_Signal  MACD_Histogram  \n",
      "Date                                                                           \n",
      "2009-08-12        NaN        NaN  NaN        NaN          NaN             NaN  \n",
      "2009-08-13  27.505000        NaN  NaN        NaN          NaN             NaN  \n",
      "2009-08-14  27.599999  27.466667  NaN        NaN          NaN             NaN  \n",
      "2009-08-17  27.075000  27.320000  NaN        NaN          NaN             NaN  \n",
      "2009-08-18  26.990000  27.123333  NaN        NaN          NaN             NaN  \n",
      "\n"
     ]
    },
    {
     "name": "stderr",
     "output_type": "stream",
     "text": [
      "[*********************100%%**********************]  1 of 1 completed\n"
     ]
    },
    {
     "name": "stdout",
     "output_type": "stream",
     "text": [
      "Stock: ADM\n",
      "                 Open       High        Low      Close  Adj Close   Volume  \\\n",
      "Date                                                                         \n",
      "2009-08-12  28.650000  28.650000  27.709999  27.980000  19.197668  8928600   \n",
      "2009-08-13  28.160000  28.500000  27.969999  28.190001  19.341747  6895100   \n",
      "2009-08-14  28.219999  28.389999  27.590000  27.870001  19.122196  4690500   \n",
      "2009-08-17  27.440001  27.670000  27.030001  27.049999  18.559576  5043700   \n",
      "2009-08-18  27.059999  27.610001  27.059999  27.450001  18.932005  4239300   \n",
      "\n",
      "                SMA_2      SMA_3  RSI  MACD_Line  MACD_Signal  MACD_Histogram  \n",
      "Date                                                                           \n",
      "2009-08-12        NaN        NaN  NaN        NaN          NaN             NaN  \n",
      "2009-08-13  28.085000        NaN  NaN        NaN          NaN             NaN  \n",
      "2009-08-14  28.030001  28.013334  NaN        NaN          NaN             NaN  \n",
      "2009-08-17  27.460000  27.703334  NaN        NaN          NaN             NaN  \n",
      "2009-08-18  27.250000  27.456667  NaN        NaN          NaN             NaN  \n",
      "\n"
     ]
    },
    {
     "name": "stderr",
     "output_type": "stream",
     "text": [
      "[*********************100%%**********************]  1 of 1 completed\n"
     ]
    },
    {
     "name": "stdout",
     "output_type": "stream",
     "text": [
      "Stock: ADMA\n",
      "             Open   High    Low  Close  Adj Close  Volume   SMA_2      SMA_3  \\\n",
      "Date                                                                           \n",
      "2014-12-03  13.25  14.00   9.55  10.61      10.61   83200     NaN        NaN   \n",
      "2014-12-04  10.60  11.50  10.60  10.80      10.80   36300  10.705        NaN   \n",
      "2014-12-05  10.80  10.80  10.10  10.40      10.40    9400  10.600  10.603333   \n",
      "2014-12-08  10.80  11.39  10.65  10.75      10.75   22700  10.575  10.650000   \n",
      "2014-12-09  10.80  11.15  10.52  10.62      10.62   13400  10.685  10.590000   \n",
      "\n",
      "            RSI  MACD_Line  MACD_Signal  MACD_Histogram  \n",
      "Date                                                     \n",
      "2014-12-03  NaN        NaN          NaN             NaN  \n",
      "2014-12-04  NaN        NaN          NaN             NaN  \n",
      "2014-12-05  NaN        NaN          NaN             NaN  \n",
      "2014-12-08  NaN        NaN          NaN             NaN  \n",
      "2014-12-09  NaN        NaN          NaN             NaN  \n",
      "\n"
     ]
    },
    {
     "name": "stderr",
     "output_type": "stream",
     "text": [
      "[*********************100%%**********************]  1 of 1 completed\n"
     ]
    },
    {
     "name": "stdout",
     "output_type": "stream",
     "text": [
      "Stock: ADP\n",
      "                 Open       High        Low      Close  Adj Close   Volume  \\\n",
      "Date                                                                         \n",
      "2009-08-13  33.792801  34.064968  33.362598  34.012291  23.778444  4455312   \n",
      "2009-08-14  33.924496  34.012291  33.397717  33.784019  23.618858  5208419   \n",
      "2009-08-17  33.520634  33.590870  33.011414  33.028973  23.090998  4075114   \n",
      "2009-08-18  33.072872  33.292362  32.853378  33.011414  23.078716  5089735   \n",
      "2009-08-19  32.809483  33.222126  32.669006  33.072872  23.121691  4345627   \n",
      "\n",
      "                SMA_2      SMA_3  RSI  MACD_Line  MACD_Signal  MACD_Histogram  \n",
      "Date                                                                           \n",
      "2009-08-13        NaN        NaN  NaN        NaN          NaN             NaN  \n",
      "2009-08-14  33.898155        NaN  NaN        NaN          NaN             NaN  \n",
      "2009-08-17  33.406496  33.608428  NaN        NaN          NaN             NaN  \n",
      "2009-08-18  33.020193  33.274802  NaN        NaN          NaN             NaN  \n",
      "2009-08-19  33.042143  33.037753  NaN        NaN          NaN             NaN  \n",
      "\n"
     ]
    },
    {
     "name": "stderr",
     "output_type": "stream",
     "text": [
      "[*********************100%%**********************]  1 of 1 completed\n"
     ]
    },
    {
     "name": "stdout",
     "output_type": "stream",
     "text": [
      "Stock: ADPT\n",
      "                 Open       High        Low      Close  Adj Close    Volume  \\\n",
      "Date                                                                          \n",
      "2019-06-27  39.009998  40.619999  36.209999  40.299999  40.299999  11245600   \n",
      "2019-06-28  42.099998  48.825001  41.250000  48.299999  48.299999   5403800   \n",
      "2019-07-01  51.000000  51.000000  39.580002  40.099998  40.099998   4300600   \n",
      "2019-07-02  40.000000  40.400002  37.950001  38.889999  38.889999   1877700   \n",
      "2019-07-03  39.549999  39.549999  38.599998  39.160000  39.160000   1010600   \n",
      "\n",
      "                SMA_2      SMA_3  RSI  MACD_Line  MACD_Signal  MACD_Histogram  \n",
      "Date                                                                           \n",
      "2019-06-27        NaN        NaN  NaN        NaN          NaN             NaN  \n",
      "2019-06-28  44.299999        NaN  NaN        NaN          NaN             NaN  \n",
      "2019-07-01  44.199999  42.899999  NaN        NaN          NaN             NaN  \n",
      "2019-07-02  39.494999  42.429999  NaN        NaN          NaN             NaN  \n",
      "2019-07-03  39.025000  39.383333  NaN        NaN          NaN             NaN  \n",
      "\n"
     ]
    },
    {
     "name": "stderr",
     "output_type": "stream",
     "text": [
      "[*********************100%%**********************]  1 of 1 completed\n"
     ]
    },
    {
     "name": "stdout",
     "output_type": "stream",
     "text": [
      "Stock: ADRE\n",
      "                 Open       High        Low      Close  Adj Close  Volume  \\\n",
      "Date                                                                        \n",
      "2012-10-24  39.029999  39.200001  38.959999  38.959999  38.959999   17108   \n",
      "2012-10-25  39.439999  39.500000  39.171700  39.290001  39.290001   12182   \n",
      "2012-10-26  39.240002  39.340000  39.040001  39.160000  39.160000   62231   \n",
      "2012-10-31  38.680000  39.345699  38.540001  38.840000  38.840000   47787   \n",
      "2012-11-01  39.000000  39.450001  39.000000  39.389999  39.389999   23727   \n",
      "\n",
      "             SMA_2      SMA_3  RSI  MACD_Line  MACD_Signal  MACD_Histogram  \n",
      "Date                                                                        \n",
      "2012-10-24     NaN        NaN  NaN        NaN          NaN             NaN  \n",
      "2012-10-25  39.125        NaN  NaN        NaN          NaN             NaN  \n",
      "2012-10-26  39.225  39.136667  NaN        NaN          NaN             NaN  \n",
      "2012-10-31  39.000  39.096667  NaN        NaN          NaN             NaN  \n",
      "2012-11-01  39.115  39.130000  NaN        NaN          NaN             NaN  \n",
      "\n"
     ]
    },
    {
     "name": "stderr",
     "output_type": "stream",
     "text": [
      "[*********************100%%**********************]  1 of 1 completed\n"
     ]
    },
    {
     "name": "stdout",
     "output_type": "stream",
     "text": [
      "Stock: ADRU\n",
      "                 Open       High        Low      Close  Adj Close  Volume  \\\n",
      "Date                                                                        \n",
      "2012-01-13  18.360001  18.360001  18.360001  18.360001  18.360001    1000   \n",
      "2012-01-17  18.809999  18.820000  18.733999  18.733999  18.733999   10900   \n",
      "2012-01-18  18.860001  19.049900  18.860001  19.049900  19.049900    1765   \n",
      "2012-01-19  19.139999  19.230000  19.120001  19.222000  19.222000     800   \n",
      "2012-01-20  19.180000  19.204000  19.170000  19.200001  19.200001    1800   \n",
      "\n",
      "               SMA_2      SMA_3  RSI  MACD_Line  MACD_Signal  MACD_Histogram  \n",
      "Date                                                                          \n",
      "2012-01-13       NaN        NaN  NaN        NaN          NaN             NaN  \n",
      "2012-01-17  18.54700        NaN  NaN        NaN          NaN             NaN  \n",
      "2012-01-18  18.89195  18.714633  NaN        NaN          NaN             NaN  \n",
      "2012-01-19  19.13595  19.001966  NaN        NaN          NaN             NaN  \n",
      "2012-01-20  19.21100  19.157300  NaN        NaN          NaN             NaN  \n",
      "\n"
     ]
    },
    {
     "name": "stderr",
     "output_type": "stream",
     "text": [
      "[*********************100%%**********************]  1 of 1 completed\n"
     ]
    },
    {
     "name": "stdout",
     "output_type": "stream",
     "text": [
      "Stock: ADSK\n",
      "                 Open       High        Low      Close  Adj Close   Volume  \\\n",
      "Date                                                                         \n",
      "2009-08-17  24.700001  24.959999  23.799999  23.840000  23.840000  5652500   \n",
      "2009-08-18  24.100000  24.389999  23.959999  24.360001  24.360001  4797500   \n",
      "2009-08-19  23.900000  24.270000  23.650000  24.170000  24.170000  4234500   \n",
      "2009-08-20  24.280001  24.590000  24.170000  24.270000  24.270000  2784800   \n",
      "2009-08-21  24.580000  24.910000  24.139999  24.510000  24.510000  3852400   \n",
      "\n",
      "             SMA_2      SMA_3  RSI  MACD_Line  MACD_Signal  MACD_Histogram  \n",
      "Date                                                                        \n",
      "2009-08-17     NaN        NaN  NaN        NaN          NaN             NaN  \n",
      "2009-08-18  24.100        NaN  NaN        NaN          NaN             NaN  \n",
      "2009-08-19  24.265  24.123334  NaN        NaN          NaN             NaN  \n",
      "2009-08-20  24.220  24.266667  NaN        NaN          NaN             NaN  \n",
      "2009-08-21  24.390  24.316667  NaN        NaN          NaN             NaN  \n",
      "\n"
     ]
    },
    {
     "name": "stderr",
     "output_type": "stream",
     "text": [
      "[*********************100%%**********************]  1 of 1 completed\n"
     ]
    },
    {
     "name": "stdout",
     "output_type": "stream",
     "text": [
      "Stock: ADT\n",
      "             Open    High    Low  Close  Adj Close    Volume   SMA_2  \\\n",
      "Date                                                                   \n",
      "2018-01-19  12.65  12.970  12.00  12.39  10.121552  68187400     NaN   \n",
      "2018-01-22  12.12  12.180  11.12  11.45   9.353655  26132900  11.920   \n",
      "2018-01-23  11.47  12.120  11.45  11.91   9.729432   8272100  11.680   \n",
      "2018-01-24  11.91  12.144  11.30  11.91   9.729432  10369000  11.910   \n",
      "2018-01-25  11.91  11.940  11.60  11.90   9.721265   9448600  11.905   \n",
      "\n",
      "                SMA_3  RSI  MACD_Line  MACD_Signal  MACD_Histogram  \n",
      "Date                                                                \n",
      "2018-01-19        NaN  NaN        NaN          NaN             NaN  \n",
      "2018-01-22        NaN  NaN        NaN          NaN             NaN  \n",
      "2018-01-23  11.916667  NaN        NaN          NaN             NaN  \n",
      "2018-01-24  11.756667  NaN        NaN          NaN             NaN  \n",
      "2018-01-25  11.906666  NaN        NaN          NaN             NaN  \n",
      "\n"
     ]
    },
    {
     "name": "stderr",
     "output_type": "stream",
     "text": [
      "[*********************100%%**********************]  1 of 1 completed\n"
     ]
    },
    {
     "name": "stdout",
     "output_type": "stream",
     "text": [
      "Stock: ADTN\n",
      "                 Open       High        Low      Close  Adj Close   Volume  \\\n",
      "Date                                                                         \n",
      "2009-11-18  23.650000  23.719999  23.230000  23.340000  17.704159   733800   \n",
      "2009-11-19  23.160000  23.230000  22.610001  22.690001  17.211109  1678100   \n",
      "2009-11-20  22.480000  22.480000  21.520000  21.790001  16.528435  2641400   \n",
      "2009-11-23  22.090000  22.400000  21.540001  21.730000  16.482916  1317700   \n",
      "2009-11-24  21.540001  21.750000  21.290001  21.750000  16.498085   741000   \n",
      "\n",
      "                SMA_2      SMA_3  RSI  MACD_Line  MACD_Signal  MACD_Histogram  \n",
      "Date                                                                           \n",
      "2009-11-18        NaN        NaN  NaN        NaN          NaN             NaN  \n",
      "2009-11-19  23.015000        NaN  NaN        NaN          NaN             NaN  \n",
      "2009-11-20  22.240001  22.606667  NaN        NaN          NaN             NaN  \n",
      "2009-11-23  21.760000  22.070000  NaN        NaN          NaN             NaN  \n",
      "2009-11-24  21.740000  21.756667  NaN        NaN          NaN             NaN  \n",
      "\n"
     ]
    },
    {
     "name": "stderr",
     "output_type": "stream",
     "text": [
      "[*********************100%%**********************]  1 of 1 completed\n"
     ]
    },
    {
     "name": "stdout",
     "output_type": "stream",
     "text": [
      "Stock: ADX\n",
      "             Open   High    Low  Close  Adj Close  Volume   SMA_2      SMA_3  \\\n",
      "Date                                                                           \n",
      "2009-11-13  10.07  10.16  10.03  10.16   4.025455  131200     NaN        NaN   \n",
      "2009-11-16  10.18  10.29  10.17  10.27   4.069038  152500  10.215        NaN   \n",
      "2009-11-17  10.26  10.30  10.19  10.28   4.073000   76800  10.275  10.236667   \n",
      "2009-11-18  10.11  10.12   9.91   9.99   4.077082  172900  10.135  10.180000   \n",
      "2009-11-19   9.89   9.91   9.78   9.85   4.019945  122100   9.920  10.040000   \n",
      "\n",
      "            RSI  MACD_Line  MACD_Signal  MACD_Histogram  \n",
      "Date                                                     \n",
      "2009-11-13  NaN        NaN          NaN             NaN  \n",
      "2009-11-16  NaN        NaN          NaN             NaN  \n",
      "2009-11-17  NaN        NaN          NaN             NaN  \n",
      "2009-11-18  NaN        NaN          NaN             NaN  \n",
      "2009-11-19  NaN        NaN          NaN             NaN  \n",
      "\n"
     ]
    },
    {
     "name": "stderr",
     "output_type": "stream",
     "text": [
      "[*********************100%%**********************]  1 of 1 completed\n"
     ]
    },
    {
     "name": "stdout",
     "output_type": "stream",
     "text": [
      "Stock: ADXS\n",
      "             Open     High      Low  Close  Adj Close   Volume   SMA_2  SMA_3  \\\n",
      "Date                                                                            \n",
      "2020-05-08  15.66  16.5000  14.6300  15.03      15.03  1728710     NaN    NaN   \n",
      "2020-05-11  15.39  15.3997  15.0100  15.15      15.15   125498  15.090    NaN   \n",
      "2020-05-12  15.18  15.3600  14.8300  15.00      15.00   194733  15.075  15.06   \n",
      "2020-05-13  15.00  15.1500  14.8300  15.00      15.00   184381  15.000  15.05   \n",
      "2020-05-14  15.00  15.2000  14.9009  15.00      15.00   125472  15.000  15.00   \n",
      "\n",
      "            RSI  MACD_Line  MACD_Signal  MACD_Histogram  \n",
      "Date                                                     \n",
      "2020-05-08  NaN        NaN          NaN             NaN  \n",
      "2020-05-11  NaN        NaN          NaN             NaN  \n",
      "2020-05-12  NaN        NaN          NaN             NaN  \n",
      "2020-05-13  NaN        NaN          NaN             NaN  \n",
      "2020-05-14  NaN        NaN          NaN             NaN  \n",
      "\n"
     ]
    },
    {
     "name": "stderr",
     "output_type": "stream",
     "text": [
      "[*********************100%%**********************]  1 of 1 completed\n"
     ]
    },
    {
     "name": "stdout",
     "output_type": "stream",
     "text": [
      "Stock: AE\n",
      "                 Open       High        Low      Close  Adj Close  Volume  \\\n",
      "Date                                                                        \n",
      "2010-06-08  17.000000  17.000000  16.400000  16.400000  11.721896    2300   \n",
      "2010-06-09  16.889999  16.889999  16.500000  16.500000  11.793369     600   \n",
      "2010-06-10  16.799999  16.799999  16.549999  16.549999  11.829109    8700   \n",
      "2010-06-11  16.930000  16.969999  16.549999  16.600000  11.864843    1300   \n",
      "2010-06-14  17.250000  17.250000  16.730000  17.090000  12.215072    2700   \n",
      "\n",
      "             SMA_2      SMA_3  RSI  MACD_Line  MACD_Signal  MACD_Histogram  \n",
      "Date                                                                        \n",
      "2010-06-08     NaN        NaN  NaN        NaN          NaN             NaN  \n",
      "2010-06-09  16.450        NaN  NaN        NaN          NaN             NaN  \n",
      "2010-06-10  16.525  16.483333  NaN        NaN          NaN             NaN  \n",
      "2010-06-11  16.575  16.550000  NaN        NaN          NaN             NaN  \n",
      "2010-06-14  16.845  16.746667  NaN        NaN          NaN             NaN  \n",
      "\n"
     ]
    },
    {
     "name": "stderr",
     "output_type": "stream",
     "text": [
      "[*********************100%%**********************]  1 of 1 completed\n"
     ]
    },
    {
     "name": "stdout",
     "output_type": "stream",
     "text": [
      "Stock: AEE\n",
      "                 Open       High        Low      Close  Adj Close   Volume  \\\n",
      "Date                                                                         \n",
      "2010-02-18  25.469999  26.250000  25.469999  25.639999  15.108541  3138500   \n",
      "2010-02-19  25.620001  26.059999  25.350000  25.650000  15.114442  2066000   \n",
      "2010-02-22  25.799999  25.820000  25.360001  25.410000  14.973022  1396900   \n",
      "2010-02-23  25.420000  25.469999  25.170000  25.290001  14.902309  1402600   \n",
      "2010-02-24  25.340000  25.450001  24.889999  25.139999  14.813920  1640200   \n",
      "\n",
      "             SMA_2      SMA_3  RSI  MACD_Line  MACD_Signal  MACD_Histogram  \n",
      "Date                                                                        \n",
      "2010-02-18     NaN        NaN  NaN        NaN          NaN             NaN  \n",
      "2010-02-19  25.645        NaN  NaN        NaN          NaN             NaN  \n",
      "2010-02-22  25.530  25.566666  NaN        NaN          NaN             NaN  \n",
      "2010-02-23  25.350  25.450000  NaN        NaN          NaN             NaN  \n",
      "2010-02-24  25.215  25.280000  NaN        NaN          NaN             NaN  \n",
      "\n"
     ]
    },
    {
     "name": "stderr",
     "output_type": "stream",
     "text": [
      "[*********************100%%**********************]  1 of 1 completed\n"
     ]
    },
    {
     "name": "stdout",
     "output_type": "stream",
     "text": [
      "Stock: AEG\n",
      "            Open  High   Low  Close  Adj Close  Volume  SMA_2     SMA_3  RSI  \\\n",
      "Date                                                                           \n",
      "2009-08-17  7.15  7.16  6.99   7.08   4.065756  991600    NaN       NaN  NaN   \n",
      "2009-08-18  7.15  7.40  7.15   7.39   4.243776  693700  7.235       NaN  NaN   \n",
      "2009-08-19  7.27  7.48  7.24   7.39   4.243776  831300  7.390  7.286667  NaN   \n",
      "2009-08-20  7.36  7.44  7.33   7.38   4.238033  630800  7.385  7.386667  NaN   \n",
      "2009-08-21  7.57  7.68  7.55   7.66   4.398826  945400  7.520  7.476667  NaN   \n",
      "\n",
      "            MACD_Line  MACD_Signal  MACD_Histogram  \n",
      "Date                                                \n",
      "2009-08-17        NaN          NaN             NaN  \n",
      "2009-08-18        NaN          NaN             NaN  \n",
      "2009-08-19        NaN          NaN             NaN  \n",
      "2009-08-20        NaN          NaN             NaN  \n",
      "2009-08-21        NaN          NaN             NaN  \n",
      "\n"
     ]
    },
    {
     "name": "stderr",
     "output_type": "stream",
     "text": [
      "[*********************100%%**********************]  1 of 1 completed\n"
     ]
    },
    {
     "name": "stdout",
     "output_type": "stream",
     "text": [
      "Stock: AEHR\n",
      "            Open  High   Low  Close  Adj Close  Volume  SMA_2     SMA_3  RSI  \\\n",
      "Date                                                                           \n",
      "2017-01-05  2.35  2.63  2.24   2.30       2.30   64100    NaN       NaN  NaN   \n",
      "2017-01-06  2.30  2.37  2.30   2.34       2.34   47800  2.320       NaN  NaN   \n",
      "2017-01-09  2.32  2.45  2.32   2.37       2.37    7700  2.355  2.336667  NaN   \n",
      "2017-01-10  2.35  2.42  2.35   2.37       2.37   18000  2.370  2.360000  NaN   \n",
      "2017-01-11  2.37  2.47  2.37   2.46       2.46   16400  2.415  2.400000  NaN   \n",
      "\n",
      "            MACD_Line  MACD_Signal  MACD_Histogram  \n",
      "Date                                                \n",
      "2017-01-05        NaN          NaN             NaN  \n",
      "2017-01-06        NaN          NaN             NaN  \n",
      "2017-01-09        NaN          NaN             NaN  \n",
      "2017-01-10        NaN          NaN             NaN  \n",
      "2017-01-11        NaN          NaN             NaN  \n",
      "\n"
     ]
    },
    {
     "name": "stderr",
     "output_type": "stream",
     "text": [
      "[*********************100%%**********************]  1 of 1 completed\n"
     ]
    },
    {
     "name": "stdout",
     "output_type": "stream",
     "text": [
      "Stock: AEIS\n",
      "             Open   High    Low  Close  Adj Close  Volume   SMA_2      SMA_3  \\\n",
      "Date                                                                           \n",
      "2009-10-21  13.55  14.15  13.36  13.60  13.412114  511600     NaN        NaN   \n",
      "2009-10-22  13.55  13.83  13.24  13.66  13.471282  254500  13.630        NaN   \n",
      "2009-10-23  13.56  13.85  13.17  13.23  13.047224  333800  13.445  13.496667   \n",
      "2009-10-26  13.27  13.61  12.73  12.93  12.751367  344700  13.080  13.273333   \n",
      "2009-10-27  12.98  13.16  12.52  12.77  12.593580  349700  12.850  12.976667   \n",
      "\n",
      "            RSI  MACD_Line  MACD_Signal  MACD_Histogram  \n",
      "Date                                                     \n",
      "2009-10-21  NaN        NaN          NaN             NaN  \n",
      "2009-10-22  NaN        NaN          NaN             NaN  \n",
      "2009-10-23  NaN        NaN          NaN             NaN  \n",
      "2009-10-26  NaN        NaN          NaN             NaN  \n",
      "2009-10-27  NaN        NaN          NaN             NaN  \n",
      "\n"
     ]
    },
    {
     "name": "stderr",
     "output_type": "stream",
     "text": [
      "[*********************100%%**********************]  1 of 1 completed\n"
     ]
    },
    {
     "name": "stdout",
     "output_type": "stream",
     "text": [
      "Stock: AEL\n",
      "            Open  High   Low  Close  Adj Close  Volume  SMA_2     SMA_3  RSI  \\\n",
      "Date                                                                           \n",
      "2009-08-10  7.80  7.98  7.62   7.96   6.900442  313400    NaN       NaN  NaN   \n",
      "2009-08-11  7.86  7.98  7.31   7.87   6.822422  595800  7.915       NaN  NaN   \n",
      "2009-08-12  7.92  8.18  7.89   8.05   6.978464  451700  7.960  7.960000  NaN   \n",
      "2009-08-13  8.15  8.18  7.98   8.15   7.065151  289900  8.100  8.023333  NaN   \n",
      "2009-08-14  8.14  8.14  7.80   8.10   7.021808  497700  8.125  8.100000  NaN   \n",
      "\n",
      "            MACD_Line  MACD_Signal  MACD_Histogram  \n",
      "Date                                                \n",
      "2009-08-10        NaN          NaN             NaN  \n",
      "2009-08-11        NaN          NaN             NaN  \n",
      "2009-08-12        NaN          NaN             NaN  \n",
      "2009-08-13        NaN          NaN             NaN  \n",
      "2009-08-14        NaN          NaN             NaN  \n",
      "\n"
     ]
    },
    {
     "name": "stderr",
     "output_type": "stream",
     "text": [
      "[*********************100%%**********************]  1 of 1 completed\n"
     ]
    },
    {
     "name": "stdout",
     "output_type": "stream",
     "text": [
      "Stock: AEM\n",
      "                 Open       High        Low      Close  Adj Close   Volume  \\\n",
      "Date                                                                         \n",
      "2009-07-27  57.779999  58.560001  56.889999  57.259998  45.441402  1498600   \n",
      "2009-07-28  55.799999  55.950001  52.450001  53.820000  42.711422  3477100   \n",
      "2009-07-29  53.299999  53.400002  52.169998  52.340000  41.536903  2607200   \n",
      "2009-07-30  54.189999  56.349998  54.000000  55.950001  44.401802  3866000   \n",
      "2009-07-31  55.990002  59.000000  55.740002  58.549999  46.465149  3199900   \n",
      "\n",
      "                SMA_2      SMA_3  RSI  MACD_Line  MACD_Signal  MACD_Histogram  \n",
      "Date                                                                           \n",
      "2009-07-27        NaN        NaN  NaN        NaN          NaN             NaN  \n",
      "2009-07-28  55.539999        NaN  NaN        NaN          NaN             NaN  \n",
      "2009-07-29  53.080000  54.473333  NaN        NaN          NaN             NaN  \n",
      "2009-07-30  54.145000  54.036667  NaN        NaN          NaN             NaN  \n",
      "2009-07-31  57.250000  55.613333  NaN        NaN          NaN             NaN  \n",
      "\n"
     ]
    },
    {
     "name": "stderr",
     "output_type": "stream",
     "text": [
      "[*********************100%%**********************]  1 of 1 completed\n"
     ]
    },
    {
     "name": "stdout",
     "output_type": "stream",
     "text": [
      "Stock: AEO\n",
      "                 Open       High        Low      Close  Adj Close    Volume  \\\n",
      "Date                                                                          \n",
      "2009-10-08  17.500000  18.379999  17.260000  18.139999  10.951392  14781100   \n",
      "2009-10-09  18.049999  18.480000  17.879999  18.360001  11.084212   5947600   \n",
      "2009-10-12  18.870001  18.950001  18.660000  18.790001  11.343807   6219100   \n",
      "2009-10-13  18.750000  19.129999  18.610001  18.879999  11.398145   7472200   \n",
      "2009-10-14  19.049999  19.330000  18.799999  19.219999  11.603403   5035200   \n",
      "\n",
      "                SMA_2      SMA_3  RSI  MACD_Line  MACD_Signal  MACD_Histogram  \n",
      "Date                                                                           \n",
      "2009-10-08        NaN        NaN  NaN        NaN          NaN             NaN  \n",
      "2009-10-09  18.250000        NaN  NaN        NaN          NaN             NaN  \n",
      "2009-10-12  18.575001  18.430000  NaN        NaN          NaN             NaN  \n",
      "2009-10-13  18.835000  18.676667  NaN        NaN          NaN             NaN  \n",
      "2009-10-14  19.049999  18.963333  NaN        NaN          NaN             NaN  \n",
      "\n"
     ]
    },
    {
     "name": "stderr",
     "output_type": "stream",
     "text": [
      "[*********************100%%**********************]  1 of 1 completed\n"
     ]
    },
    {
     "name": "stdout",
     "output_type": "stream",
     "text": [
      "Stock: AER\n",
      "            Open  High   Low  Close  Adj Close  Volume  SMA_2  SMA_3  RSI  \\\n",
      "Date                                                                        \n",
      "2009-08-13  9.12  9.31  9.03   9.06       9.06  104600    NaN    NaN  NaN   \n",
      "2009-08-14  9.03  9.16  8.85   8.90       8.90  203700   8.98    NaN  NaN   \n",
      "2009-08-17  8.58  8.70  8.22   8.26       8.26  225400   8.58   8.74  NaN   \n",
      "2009-08-18  8.41  8.55  8.26   8.34       8.34  188000   8.30   8.50  NaN   \n",
      "2009-08-19  8.31  8.69  8.17   8.48       8.48  148700   8.41   8.36  NaN   \n",
      "\n",
      "            MACD_Line  MACD_Signal  MACD_Histogram  \n",
      "Date                                                \n",
      "2009-08-13        NaN          NaN             NaN  \n",
      "2009-08-14        NaN          NaN             NaN  \n",
      "2009-08-17        NaN          NaN             NaN  \n",
      "2009-08-18        NaN          NaN             NaN  \n",
      "2009-08-19        NaN          NaN             NaN  \n",
      "\n"
     ]
    },
    {
     "name": "stderr",
     "output_type": "stream",
     "text": [
      "[*********************100%%**********************]  1 of 1 completed\n"
     ]
    },
    {
     "name": "stdout",
     "output_type": "stream",
     "text": [
      "Stock: AES\n",
      "             Open   High    Low  Close  Adj Close    Volume   SMA_2  \\\n",
      "Date                                                                  \n",
      "2009-08-10  13.83  14.10  13.52  13.98   9.779334  11061600     NaN   \n",
      "2009-08-11  13.84  13.91  13.41  13.43   9.394595   7822600  13.705   \n",
      "2009-08-12  13.34  14.01  13.34  13.88   9.709379   6899900  13.655   \n",
      "2009-08-13  13.98  14.05  13.67  13.92   9.737361   6979800  13.900   \n",
      "2009-08-14  13.88  14.03  13.59  13.79   9.646424   4288700  13.855   \n",
      "\n",
      "                SMA_3  RSI  MACD_Line  MACD_Signal  MACD_Histogram  \n",
      "Date                                                                \n",
      "2009-08-10        NaN  NaN        NaN          NaN             NaN  \n",
      "2009-08-11        NaN  NaN        NaN          NaN             NaN  \n",
      "2009-08-12  13.763333  NaN        NaN          NaN             NaN  \n",
      "2009-08-13  13.743333  NaN        NaN          NaN             NaN  \n",
      "2009-08-14  13.863333  NaN        NaN          NaN             NaN  \n",
      "\n"
     ]
    },
    {
     "name": "stderr",
     "output_type": "stream",
     "text": [
      "[*********************100%%**********************]  1 of 1 completed\n"
     ]
    },
    {
     "name": "stdout",
     "output_type": "stream",
     "text": [
      "Stock: AET\n",
      "                 Open       High        Low      Close  Adj Close   Volume  \\\n",
      "Date                                                                         \n",
      "2009-10-13  26.379999  26.480000  25.350000  25.540001  23.143709  9325151   \n",
      "2009-10-14  25.920000  26.240000  25.650000  26.030001  23.587736  6824851   \n",
      "2009-10-15  26.080000  26.080000  25.410000  25.719999  23.306818  7396678   \n",
      "2009-10-16  25.700001  25.860001  25.190001  25.219999  22.853735  5803977   \n",
      "2009-10-19  25.230000  25.570000  24.940001  25.250000  22.880919  6799656   \n",
      "\n",
      "                SMA_2      SMA_3  RSI  MACD_Line  MACD_Signal  MACD_Histogram  \n",
      "Date                                                                           \n",
      "2009-10-13        NaN        NaN  NaN        NaN          NaN             NaN  \n",
      "2009-10-14  25.785001        NaN  NaN        NaN          NaN             NaN  \n",
      "2009-10-15  25.875000  25.763334  NaN        NaN          NaN             NaN  \n",
      "2009-10-16  25.469999  25.656666  NaN        NaN          NaN             NaN  \n",
      "2009-10-19  25.235000  25.396666  NaN        NaN          NaN             NaN  \n",
      "\n"
     ]
    },
    {
     "name": "stderr",
     "output_type": "stream",
     "text": [
      "[*********************100%%**********************]  1 of 1 completed\n"
     ]
    },
    {
     "name": "stdout",
     "output_type": "stream",
     "text": [
      "Stock: AEZS\n",
      "                    Open          High           Low         Close  \\\n",
      "Date                                                                 \n",
      "2009-09-16  69599.859375  85799.828125  68399.859375  82199.835938   \n",
      "2009-09-17  79199.843750  83399.835938  73199.851562  76799.843750   \n",
      "2009-09-18  77999.843750  77999.843750  72599.851562  73799.851562   \n",
      "2009-09-21  80999.835938  88799.820312  79799.843750  82799.835938   \n",
      "2009-09-22  82199.835938  83999.828125  76799.843750  80399.835938   \n",
      "\n",
      "               Adj Close  Volume         SMA_2         SMA_3  RSI  MACD_Line  \\\n",
      "Date                                                                           \n",
      "2009-09-16  82199.835938     117           NaN           NaN  NaN        NaN   \n",
      "2009-09-17  76799.843750      24  79499.839844           NaN  NaN        NaN   \n",
      "2009-09-18  73799.851562       8  75299.847656  77599.843750  NaN        NaN   \n",
      "2009-09-21  82799.835938      61  78299.843750  77799.843750  NaN        NaN   \n",
      "2009-09-22  80399.835938      17  81599.835938  78999.841146  NaN        NaN   \n",
      "\n",
      "            MACD_Signal  MACD_Histogram  \n",
      "Date                                     \n",
      "2009-09-16          NaN             NaN  \n",
      "2009-09-17          NaN             NaN  \n",
      "2009-09-18          NaN             NaN  \n",
      "2009-09-21          NaN             NaN  \n",
      "2009-09-22          NaN             NaN  \n",
      "\n"
     ]
    },
    {
     "name": "stderr",
     "output_type": "stream",
     "text": [
      "[*********************100%%**********************]  1 of 1 completed\n"
     ]
    },
    {
     "name": "stdout",
     "output_type": "stream",
     "text": [
      "Stock: AFAM\n",
      "                 Open       High        Low      Close  Adj Close  Volume  \\\n",
      "Date                                                                        \n",
      "2010-01-26  38.000000  38.049999  35.400002  36.990002  33.577641  424253   \n",
      "2010-01-27  37.160000  38.049999  36.970001  37.799999  34.312912  121829   \n",
      "2010-01-28  37.810001  37.849998  36.721001  37.169998  33.741032   79489   \n",
      "2010-01-29  37.410000  37.869999  36.250000  36.360001  33.005756   82044   \n",
      "2010-02-01  36.270000  36.270000  35.520000  36.029999  32.706196  141750   \n",
      "\n",
      "                SMA_2      SMA_3  RSI  MACD_Line  MACD_Signal  MACD_Histogram  \n",
      "Date                                                                           \n",
      "2010-01-26        NaN        NaN  NaN        NaN          NaN             NaN  \n",
      "2010-01-27  37.395000        NaN  NaN        NaN          NaN             NaN  \n",
      "2010-01-28  37.484999  37.320000  NaN        NaN          NaN             NaN  \n",
      "2010-01-29  36.764999  37.109999  NaN        NaN          NaN             NaN  \n",
      "2010-02-01  36.195000  36.519999  NaN        NaN          NaN             NaN  \n",
      "\n"
     ]
    },
    {
     "name": "stderr",
     "output_type": "stream",
     "text": [
      "[*********************100%%**********************]  1 of 1 completed\n"
     ]
    },
    {
     "name": "stdout",
     "output_type": "stream",
     "text": [
      "Stock: AFB\n",
      "             Open   High    Low  Close  Adj Close  Volume   SMA_2      SMA_3  \\\n",
      "Date                                                                           \n",
      "2010-10-13  14.63  14.67  14.49  14.50   7.226570   78000     NaN        NaN   \n",
      "2010-10-14  14.47  14.55  14.40  14.41   7.181721   61600  14.455        NaN   \n",
      "2010-10-15  14.43  14.43  14.27  14.30   7.126893   85800  14.355  14.403333   \n",
      "2010-10-18  14.26  14.30  14.14  14.22   7.087025   99100  14.260  14.310000   \n",
      "2010-10-19  14.15  14.26  14.15  14.24   7.096986   47700  14.230  14.253333   \n",
      "\n",
      "            RSI  MACD_Line  MACD_Signal  MACD_Histogram  \n",
      "Date                                                     \n",
      "2010-10-13  NaN        NaN          NaN             NaN  \n",
      "2010-10-14  NaN        NaN          NaN             NaN  \n",
      "2010-10-15  NaN        NaN          NaN             NaN  \n",
      "2010-10-18  NaN        NaN          NaN             NaN  \n",
      "2010-10-19  NaN        NaN          NaN             NaN  \n",
      "\n"
     ]
    },
    {
     "name": "stderr",
     "output_type": "stream",
     "text": [
      "[*********************100%%**********************]  1 of 1 completed\n"
     ]
    },
    {
     "name": "stdout",
     "output_type": "stream",
     "text": [
      "Stock: AFCB\n",
      "               Open     High      Low    Close  Adj Close  Volume     SMA_2  \\\n",
      "Date                                                                          \n",
      "2012-04-18  15.2000  15.5000  14.9000  14.9900  14.201536    9000       NaN   \n",
      "2012-04-19  14.9500  15.0900  14.3100  14.3800  13.623620    5925  14.68500   \n",
      "2012-04-20  14.2500  14.3900  14.1500  14.3900  13.633096     758  14.38500   \n",
      "2012-04-23  14.5000  14.5001  14.5000  14.5001  13.737404    1600  14.44505   \n",
      "2012-04-24  14.5001  14.5001  14.5001  14.5001  13.737404       0  14.50010   \n",
      "\n",
      "                SMA_3  RSI  MACD_Line  MACD_Signal  MACD_Histogram  \n",
      "Date                                                                \n",
      "2012-04-18        NaN  NaN        NaN          NaN             NaN  \n",
      "2012-04-19        NaN  NaN        NaN          NaN             NaN  \n",
      "2012-04-20  14.586667  NaN        NaN          NaN             NaN  \n",
      "2012-04-23  14.423367  NaN        NaN          NaN             NaN  \n",
      "2012-04-24  14.463400  NaN        NaN          NaN             NaN  \n",
      "\n"
     ]
    },
    {
     "name": "stderr",
     "output_type": "stream",
     "text": [
      "[*********************100%%**********************]  1 of 1 completed\n"
     ]
    },
    {
     "name": "stdout",
     "output_type": "stream",
     "text": [
      "Stock: AFG\n",
      "                 Open       High    Low      Close  Adj Close  Volume  \\\n",
      "Date                                                                    \n",
      "2009-08-10  25.059999  25.280001  24.59  24.820000  11.217076  544100   \n",
      "2009-08-11  24.750000  24.830000  24.50  24.680000  11.153801  658300   \n",
      "2009-08-12  24.680000  25.410000  24.68  25.120001  11.352659  441500   \n",
      "2009-08-13  25.129999  25.480000  24.83  25.150000  11.366218  399700   \n",
      "2009-08-14  24.990000  25.080000  24.60  24.770000  11.194482  343000   \n",
      "\n",
      "                SMA_2      SMA_3  RSI  MACD_Line  MACD_Signal  MACD_Histogram  \n",
      "Date                                                                           \n",
      "2009-08-10        NaN        NaN  NaN        NaN          NaN             NaN  \n",
      "2009-08-11  24.750000        NaN  NaN        NaN          NaN             NaN  \n",
      "2009-08-12  24.900001  24.873334  NaN        NaN          NaN             NaN  \n",
      "2009-08-13  25.135000  24.983334  NaN        NaN          NaN             NaN  \n",
      "2009-08-14  24.960000  25.013334  NaN        NaN          NaN             NaN  \n",
      "\n"
     ]
    },
    {
     "name": "stderr",
     "output_type": "stream",
     "text": [
      "[*********************100%%**********************]  1 of 1 completed\n"
     ]
    },
    {
     "name": "stdout",
     "output_type": "stream",
     "text": [
      "Stock: AFK\n",
      "                 Open       High        Low      Close  Adj Close  Volume  \\\n",
      "Date                                                                        \n",
      "2009-09-08  28.500000  28.530001  27.709999  28.430000  18.419659    9000   \n",
      "2009-09-09  28.209999  28.549999  28.080000  28.120001  18.218813   11700   \n",
      "2009-09-10  28.120001  28.389999  28.059999  28.389999  18.393744    6200   \n",
      "2009-09-11  28.520000  28.520000  28.250000  28.370001  18.380787    5600   \n",
      "2009-09-14  28.080000  28.209999  28.000000  28.040001  18.166977    7000   \n",
      "\n",
      "                SMA_2      SMA_3  RSI  MACD_Line  MACD_Signal  MACD_Histogram  \n",
      "Date                                                                           \n",
      "2009-09-08        NaN        NaN  NaN        NaN          NaN             NaN  \n",
      "2009-09-09  28.275001        NaN  NaN        NaN          NaN             NaN  \n",
      "2009-09-10  28.255000  28.313334  NaN        NaN          NaN             NaN  \n",
      "2009-09-11  28.380000  28.293334  NaN        NaN          NaN             NaN  \n",
      "2009-09-14  28.205001  28.266667  NaN        NaN          NaN             NaN  \n",
      "\n"
     ]
    },
    {
     "name": "stderr",
     "output_type": "stream",
     "text": [
      "[*********************100%%**********************]  1 of 1 completed\n"
     ]
    },
    {
     "name": "stdout",
     "output_type": "stream",
     "text": [
      "Stock: AFL\n",
      "                 Open       High        Low      Close  Adj Close    Volume  \\\n",
      "Date                                                                          \n",
      "2009-08-17  20.570000  20.584999  19.805000  19.840000  13.877329   9113800   \n",
      "2009-08-18  19.900000  20.309999  19.754999  20.219999  14.143121   5263800   \n",
      "2009-08-19  19.955000  20.504999  19.705000  20.290001  14.192088   5665000   \n",
      "2009-08-20  20.320000  20.865000  19.910000  20.065001  14.034712  11854800   \n",
      "2009-08-21  20.280001  21.100000  20.150000  20.934999  14.643238  11727600   \n",
      "\n",
      "                SMA_2      SMA_3  RSI  MACD_Line  MACD_Signal  MACD_Histogram  \n",
      "Date                                                                           \n",
      "2009-08-17        NaN        NaN  NaN        NaN          NaN             NaN  \n",
      "2009-08-18  20.030000        NaN  NaN        NaN          NaN             NaN  \n",
      "2009-08-19  20.255000  20.116667  NaN        NaN          NaN             NaN  \n",
      "2009-08-20  20.177501  20.191667  NaN        NaN          NaN             NaN  \n",
      "2009-08-21  20.500000  20.430000  NaN        NaN          NaN             NaN  \n",
      "\n"
     ]
    },
    {
     "name": "stderr",
     "output_type": "stream",
     "text": [
      "[*********************100%%**********************]  1 of 1 completed\n"
     ]
    },
    {
     "name": "stdout",
     "output_type": "stream",
     "text": [
      "Stock: AFMD\n",
      "                 Open       High        Low      Close  Adj Close  Volume  \\\n",
      "Date                                                                        \n",
      "2014-09-12  69.500000  70.000000  56.299999  57.000000  57.000000  357620   \n",
      "2014-09-15  60.000000  64.000000  58.500000  64.000000  64.000000   47890   \n",
      "2014-09-16  64.000000  64.900002  59.099998  62.200001  62.200001   16330   \n",
      "2014-09-17  61.700001  63.200001  60.200001  62.700001  62.700001   14530   \n",
      "2014-09-18  61.200001  62.700001  60.000000  61.200001  61.200001   14870   \n",
      "\n",
      "                SMA_2      SMA_3  RSI  MACD_Line  MACD_Signal  MACD_Histogram  \n",
      "Date                                                                           \n",
      "2014-09-12        NaN        NaN  NaN        NaN          NaN             NaN  \n",
      "2014-09-15  60.500000        NaN  NaN        NaN          NaN             NaN  \n",
      "2014-09-16  63.100000  61.066667  NaN        NaN          NaN             NaN  \n",
      "2014-09-17  62.450001  62.966667  NaN        NaN          NaN             NaN  \n",
      "2014-09-18  61.950001  62.033334  NaN        NaN          NaN             NaN  \n",
      "\n"
     ]
    },
    {
     "name": "stderr",
     "output_type": "stream",
     "text": [
      "[*********************100%%**********************]  1 of 1 completed\n"
     ]
    },
    {
     "name": "stdout",
     "output_type": "stream",
     "text": [
      "Stock: AFSI\n",
      "                Open      High       Low     Close  Adj Close  Volume  \\\n",
      "Date                                                                    \n",
      "2010-01-11  5.119834  5.144628  5.008264  5.041322   4.162799  250179   \n",
      "2010-01-12  5.008264  5.041322  4.979338  5.020661   4.145737  283902   \n",
      "2010-01-13  5.033057  5.082644  5.004132  5.066115   4.183271  223774   \n",
      "2010-01-14  5.078512  5.123966  5.057851  5.099173   4.210567  235374   \n",
      "2010-01-15  5.103305  5.115702  4.966942  5.086776   4.200331  421474   \n",
      "\n",
      "               SMA_2     SMA_3  RSI  MACD_Line  MACD_Signal  MACD_Histogram  \n",
      "Date                                                                         \n",
      "2010-01-11       NaN       NaN  NaN        NaN          NaN             NaN  \n",
      "2010-01-12  5.030992       NaN  NaN        NaN          NaN             NaN  \n",
      "2010-01-13  5.043388  5.042699  NaN        NaN          NaN             NaN  \n",
      "2010-01-14  5.082644  5.061983  NaN        NaN          NaN             NaN  \n",
      "2010-01-15  5.092974  5.084021  NaN        NaN          NaN             NaN  \n",
      "\n"
     ]
    },
    {
     "name": "stderr",
     "output_type": "stream",
     "text": [
      "[*********************100%%**********************]  1 of 1 completed\n"
     ]
    },
    {
     "name": "stdout",
     "output_type": "stream",
     "text": [
      "Stock: AFT\n",
      "                 Open       High        Low      Close  Adj Close  Volume  \\\n",
      "Date                                                                        \n",
      "2012-08-06  18.840000  18.889999  18.610001  18.610001   7.362771  118700   \n",
      "2012-08-07  18.750000  18.910000  18.719999  18.740000   7.414207   95300   \n",
      "2012-08-08  18.820000  18.879999  18.780001  18.809999   7.441899   61800   \n",
      "2012-08-09  18.799999  18.889999  18.650000  18.680000   7.390468  122300   \n",
      "2012-08-10  18.770000  18.889999  18.639999  18.730000   7.410250  112800   \n",
      "\n",
      "             SMA_2      SMA_3  RSI  MACD_Line  MACD_Signal  MACD_Histogram  \n",
      "Date                                                                        \n",
      "2012-08-06     NaN        NaN  NaN        NaN          NaN             NaN  \n",
      "2012-08-07  18.675        NaN  NaN        NaN          NaN             NaN  \n",
      "2012-08-08  18.775  18.720000  NaN        NaN          NaN             NaN  \n",
      "2012-08-09  18.745  18.743333  NaN        NaN          NaN             NaN  \n",
      "2012-08-10  18.705  18.740000  NaN        NaN          NaN             NaN  \n",
      "\n"
     ]
    },
    {
     "name": "stderr",
     "output_type": "stream",
     "text": [
      "[*********************100%%**********************]  1 of 1 completed\n"
     ]
    },
    {
     "name": "stdout",
     "output_type": "stream",
     "text": [
      "Stock: AG\n",
      "            Open  High   Low  Close  Adj Close  Volume  SMA_2     SMA_3  RSI  \\\n",
      "Date                                                                           \n",
      "2009-08-07  2.28  2.28  2.23   2.23   2.211163   14200    NaN       NaN  NaN   \n",
      "2009-08-10  2.19  2.19  2.12   2.12   2.102092   48600  2.175       NaN  NaN   \n",
      "2009-08-11  2.12  2.23  2.00   2.12   2.102092   54200  2.120  2.156667  NaN   \n",
      "2009-08-12  2.07  2.10  2.00   2.07   2.052514   71800  2.095  2.103333  NaN   \n",
      "2009-08-13  2.10  2.20  2.05   2.16   2.141754  106300  2.115  2.116667  NaN   \n",
      "\n",
      "            MACD_Line  MACD_Signal  MACD_Histogram  \n",
      "Date                                                \n",
      "2009-08-07        NaN          NaN             NaN  \n",
      "2009-08-10        NaN          NaN             NaN  \n",
      "2009-08-11        NaN          NaN             NaN  \n",
      "2009-08-12        NaN          NaN             NaN  \n",
      "2009-08-13        NaN          NaN             NaN  \n",
      "\n"
     ]
    },
    {
     "name": "stderr",
     "output_type": "stream",
     "text": [
      "[*********************100%%**********************]  1 of 1 completed\n"
     ]
    },
    {
     "name": "stdout",
     "output_type": "stream",
     "text": [
      "Stock: AGA\n",
      "                 Open       High        Low      Close  Adj Close  Volume  \\\n",
      "Date                                                                        \n",
      "2009-10-26  37.150002  38.480000  37.150002  38.480000  38.480000     700   \n",
      "2009-10-27  38.500000  40.060001  38.369999  39.750000  39.750000    1600   \n",
      "2009-10-28  40.049999  40.500000  40.049999  40.500000  40.500000     800   \n",
      "2009-10-29  39.720001  39.720001  38.419998  38.480000  38.480000    3500   \n",
      "2009-10-30  39.000000  39.200001  39.000000  39.200001  39.200001     400   \n",
      "\n",
      "             SMA_2      SMA_3  RSI  MACD_Line  MACD_Signal  MACD_Histogram  \n",
      "Date                                                                        \n",
      "2009-10-26     NaN        NaN  NaN        NaN          NaN             NaN  \n",
      "2009-10-27  39.115        NaN  NaN        NaN          NaN             NaN  \n",
      "2009-10-28  40.125  39.576667  NaN        NaN          NaN             NaN  \n",
      "2009-10-29  39.490  39.576667  NaN        NaN          NaN             NaN  \n",
      "2009-10-30  38.840  39.393333  NaN        NaN          NaN             NaN  \n",
      "\n"
     ]
    },
    {
     "name": "stderr",
     "output_type": "stream",
     "text": [
      "[*********************100%%**********************]  1 of 1 completed\n"
     ]
    },
    {
     "name": "stdout",
     "output_type": "stream",
     "text": [
      "Stock: AGCO\n",
      "             Open       High        Low      Close  Adj Close   Volume  \\\n",
      "Date                                                                     \n",
      "2009-08-10  33.34  33.419998  32.599998  32.860001  26.883648  1213100   \n",
      "2009-08-11  32.84  32.840000  31.969999  32.040001  26.212791   873400   \n",
      "2009-08-12  31.76  32.410000  31.650000  31.920000  26.114618  1676400   \n",
      "2009-08-13  31.92  32.209999  31.000000  31.480000  25.754641  2075900   \n",
      "2009-08-14  31.59  31.730000  30.170000  30.660000  25.083771  2152000   \n",
      "\n",
      "                SMA_2      SMA_3  RSI  MACD_Line  MACD_Signal  MACD_Histogram  \n",
      "Date                                                                           \n",
      "2009-08-10        NaN        NaN  NaN        NaN          NaN             NaN  \n",
      "2009-08-11  32.450001        NaN  NaN        NaN          NaN             NaN  \n",
      "2009-08-12  31.980000  32.273334  NaN        NaN          NaN             NaN  \n",
      "2009-08-13  31.700000  31.813334  NaN        NaN          NaN             NaN  \n",
      "2009-08-14  31.070000  31.353333  NaN        NaN          NaN             NaN  \n",
      "\n"
     ]
    },
    {
     "name": "stderr",
     "output_type": "stream",
     "text": [
      "[*********************100%%**********************]  1 of 1 completed\n"
     ]
    },
    {
     "name": "stdout",
     "output_type": "stream",
     "text": [
      "Stock: AGD\n",
      "                 Open       High        Low      Close  Adj Close  Volume  \\\n",
      "Date                                                                        \n",
      "2009-08-12  17.620001  18.000000  17.520000  18.000000   4.656600   39950   \n",
      "2009-08-13  18.000000  18.420000  17.980000  18.299999   4.734214   35450   \n",
      "2009-08-14  18.459999  18.500000  17.860001  18.299999   4.734214   55300   \n",
      "2009-08-17  18.100000  18.120001  17.600000  17.760000   4.594512   71450   \n",
      "2009-08-18  17.799999  18.660000  17.760000  18.660000   4.827346   59000   \n",
      "\n",
      "                SMA_2      SMA_3  RSI  MACD_Line  MACD_Signal  MACD_Histogram  \n",
      "Date                                                                           \n",
      "2009-08-12        NaN        NaN  NaN        NaN          NaN             NaN  \n",
      "2009-08-13  18.150000        NaN  NaN        NaN          NaN             NaN  \n",
      "2009-08-14  18.299999  18.199999  NaN        NaN          NaN             NaN  \n",
      "2009-08-17  18.030000  18.120000  NaN        NaN          NaN             NaN  \n",
      "2009-08-18  18.210000  18.240000  NaN        NaN          NaN             NaN  \n",
      "\n"
     ]
    },
    {
     "name": "stderr",
     "output_type": "stream",
     "text": [
      "[*********************100%%**********************]  1 of 1 completed\n"
     ]
    },
    {
     "name": "stdout",
     "output_type": "stream",
     "text": [
      "Stock: AGEN\n",
      "                  Open        High         Low       Close   Adj Close  \\\n",
      "Date                                                                     \n",
      "2009-08-07  260.255157  270.853790  255.544647  259.077515  259.077515   \n",
      "2009-08-10  264.965668  269.676147  254.367020  254.367020  254.367020   \n",
      "2009-08-11  256.722290  259.077515  235.525024  243.768402  243.768402   \n",
      "2009-08-12  256.722290  256.722290  244.946030  248.478897  248.478897   \n",
      "2009-08-13  246.123657  276.741913  241.413147  268.498535  268.498535   \n",
      "\n",
      "            Volume       SMA_2       SMA_3  RSI  MACD_Line  MACD_Signal  \\\n",
      "Date                                                                      \n",
      "2009-08-07   17184         NaN         NaN  NaN        NaN          NaN   \n",
      "2009-08-10   13673  256.722267         NaN  NaN        NaN          NaN   \n",
      "2009-08-11   21264  249.067711  252.404312  NaN        NaN          NaN   \n",
      "2009-08-12   13499  246.123650  248.871440  NaN        NaN          NaN   \n",
      "2009-08-13   21617  258.488716  253.581945  NaN        NaN          NaN   \n",
      "\n",
      "            MACD_Histogram  \n",
      "Date                        \n",
      "2009-08-07             NaN  \n",
      "2009-08-10             NaN  \n",
      "2009-08-11             NaN  \n",
      "2009-08-12             NaN  \n",
      "2009-08-13             NaN  \n",
      "\n"
     ]
    },
    {
     "name": "stderr",
     "output_type": "stream",
     "text": [
      "[*********************100%%**********************]  1 of 1 completed\n"
     ]
    },
    {
     "name": "stdout",
     "output_type": "stream",
     "text": [
      "Stock: AGF\n",
      "                 Open       High        Low      Close  Adj Close  Volume  \\\n",
      "Date                                                                        \n",
      "2012-02-09  18.549999  18.840000  18.549999  18.809999  18.809999    3200   \n",
      "2012-02-10  18.520000  20.490000  18.520000  20.459999  20.459999  237076   \n",
      "2012-02-13  19.620001  19.760000  19.150999  19.340000  19.340000    7770   \n",
      "2012-02-14  19.049999  19.389999  19.049999  19.299999  19.299999   24570   \n",
      "2012-02-15  19.170000  19.440001  19.111000  19.139999  19.139999   14366   \n",
      "\n",
      "                SMA_2      SMA_3  RSI  MACD_Line  MACD_Signal  MACD_Histogram  \n",
      "Date                                                                           \n",
      "2012-02-09        NaN        NaN  NaN        NaN          NaN             NaN  \n",
      "2012-02-10  19.634999        NaN  NaN        NaN          NaN             NaN  \n",
      "2012-02-13  19.900000  19.536666  NaN        NaN          NaN             NaN  \n",
      "2012-02-14  19.320000  19.699999  NaN        NaN          NaN             NaN  \n",
      "2012-02-15  19.219999  19.260000  NaN        NaN          NaN             NaN  \n",
      "\n"
     ]
    },
    {
     "name": "stderr",
     "output_type": "stream",
     "text": [
      "[*********************100%%**********************]  1 of 1 completed\n"
     ]
    },
    {
     "name": "stdout",
     "output_type": "stream",
     "text": [
      "Stock: AGG\n",
      "                  Open        High         Low       Close  Adj Close  Volume  \\\n",
      "Date                                                                            \n",
      "2009-12-16  104.510002  104.720001  104.500000  104.580002  71.534668  519000   \n",
      "2009-12-17  104.800003  104.849998  104.620003  104.750000  71.650970  481700   \n",
      "2009-12-18  104.820000  105.000000  104.739998  104.750000  71.650970  525900   \n",
      "2009-12-21  104.669998  104.699997  104.290001  104.309998  71.350037  628500   \n",
      "2009-12-22  104.129997  104.169998  103.879997  104.010002  71.144844  609400   \n",
      "\n",
      "                 SMA_2       SMA_3  RSI  MACD_Line  MACD_Signal  \\\n",
      "Date                                                              \n",
      "2009-12-16         NaN         NaN  NaN        NaN          NaN   \n",
      "2009-12-17  104.665001         NaN  NaN        NaN          NaN   \n",
      "2009-12-18  104.750000  104.693334  NaN        NaN          NaN   \n",
      "2009-12-21  104.529999  104.603333  NaN        NaN          NaN   \n",
      "2009-12-22  104.160000  104.356667  NaN        NaN          NaN   \n",
      "\n",
      "            MACD_Histogram  \n",
      "Date                        \n",
      "2009-12-16             NaN  \n",
      "2009-12-17             NaN  \n",
      "2009-12-18             NaN  \n",
      "2009-12-21             NaN  \n",
      "2009-12-22             NaN  \n",
      "\n"
     ]
    },
    {
     "name": "stderr",
     "output_type": "stream",
     "text": [
      "[*********************100%%**********************]  1 of 1 completed\n"
     ]
    },
    {
     "name": "stdout",
     "output_type": "stream",
     "text": [
      "Stock: AGIO\n",
      "                 Open       High        Low      Close  Adj Close   Volume  \\\n",
      "Date                                                                         \n",
      "2013-07-24  29.000000  32.000000  27.160000  31.280001  31.280001  6203200   \n",
      "2013-07-25  31.040001  31.469999  27.760000  27.780001  27.780001   592600   \n",
      "2013-07-26  27.750000  29.450001  27.750000  28.530001  28.530001   313700   \n",
      "2013-07-29  28.490000  30.790001  28.020000  28.639999  28.639999   149400   \n",
      "2013-07-30  28.549999  29.860001  28.120001  29.100000  29.100000    77300   \n",
      "\n",
      "                SMA_2      SMA_3  RSI  MACD_Line  MACD_Signal  MACD_Histogram  \n",
      "Date                                                                           \n",
      "2013-07-24        NaN        NaN  NaN        NaN          NaN             NaN  \n",
      "2013-07-25  29.530001        NaN  NaN        NaN          NaN             NaN  \n",
      "2013-07-26  28.155001  29.196667  NaN        NaN          NaN             NaN  \n",
      "2013-07-29  28.585000  28.316667  NaN        NaN          NaN             NaN  \n",
      "2013-07-30  28.870000  28.756667  NaN        NaN          NaN             NaN  \n",
      "\n"
     ]
    }
   ],
   "source": [
    "import pandas as pd\n",
    "import talib\n",
    "import yfinance as yf\n",
    "\n",
    "# Assuming 'combined_stock_data' and 'start_end_dates' are already defined as pandas DataFrames\n",
    "\n",
    "# Get the stock tickers from the combined_stock_data DataFrame\n",
    "stock_tickers = combined_stock_data['stock'].unique()\n",
    "\n",
    "# Iterate over each stock ticker\n",
    "for stock in stock_tickers:\n",
    "    # Get the corresponding start date and end date for the stock from the start_end_dates DataFrame\n",
    "    stock_dates = start_end_dates.loc[start_end_dates['stock'] == stock, ['start_date', 'end_date']].values[0]\n",
    "    start_date = stock_dates[0]\n",
    "    end_date = stock_dates[1]\n",
    "    \n",
    "    # Fetch the historical stock data using yfinance\n",
    "    stock_data = yf.download(stock, start=start_date, end=end_date)\n",
    "    \n",
    "    # Calculate moving averages\n",
    "    stock_data['SMA_2'] = talib.SMA(stock_data['Close'], timeperiod=2)\n",
    "    stock_data['SMA_3'] = talib.SMA(stock_data['Close'], timeperiod=3)\n",
    "    \n",
    "    # Calculate RSI (Relative Strength Index)\n",
    "    stock_data['RSI'] = talib.RSI(stock_data['Close'], timeperiod=14)\n",
    "    \n",
    "    # Calculate MACD (Moving Average Convergence Divergence)\n",
    "    macd, signal, hist = talib.MACD(stock_data['Close'])\n",
    "    stock_data['MACD_Line'] = macd\n",
    "    stock_data['MACD_Signal'] = signal\n",
    "    stock_data['MACD_Histogram'] = hist\n",
    "    \n",
    "    # Print the resulting DataFrame\n",
    "    print(f\"Stock: {stock}\")\n",
    "    print(stock_data.head())\n",
    "    print()"
   ]
  }
 ],
 "metadata": {
  "kernelspec": {
   "display_name": "myenv",
   "language": "python",
   "name": "python3"
  },
  "language_info": {
   "codemirror_mode": {
    "name": "ipython",
    "version": 3
   },
   "file_extension": ".py",
   "mimetype": "text/x-python",
   "name": "python",
   "nbconvert_exporter": "python",
   "pygments_lexer": "ipython3",
   "version": "3.12.3"
  }
 },
 "nbformat": 4,
 "nbformat_minor": 2
}
